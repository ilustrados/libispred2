{
 "cells": [
  {
   "cell_type": "code",
   "execution_count": 1,
   "id": "4a334f83",
   "metadata": {},
   "outputs": [],
   "source": [
    "%%js\n",
    "Jupyter.notebook.get_cell(0).element.hide()\n",
    "Jupyter.notebook.get_cell(1).element.hide()\n",
    "Jupyter.notebook.get_cell(25).element.hide()\n",
    "Jupyter.notebook.get_cell(26).element.hide()"
   ]
  },
  {
   "cell_type": "code",
   "execution_count": 2,
   "id": "7e3d2d0f",
   "metadata": {},
   "outputs": [],
   "source": [
    "\n",
    "import pandas as pd\n"
   ]
  },
  {
   "cell_type": "markdown",
   "id": "fe8ab7f2",
   "metadata": {
    "extensions": {
     "jupyter_dashboards": {
      "version": 1,
      "views": {
       "grid_default": {},
       "report_default": {}
      }
     }
    }
   },
   "source": [
    "# Annual Prediction "
   ]
  },
  {
   "cell_type": "code",
   "execution_count": 3,
   "id": "e23967e5",
   "metadata": {
    "extensions": {
     "jupyter_dashboards": {
      "version": 1,
      "views": {
       "grid_default": {},
       "report_default": {}
      }
     }
    }
   },
   "outputs": [],
   "source": [
    "train2 = pd.read_csv(\"Training 2020.csv\")"
   ]
  },
  {
   "cell_type": "code",
   "execution_count": 4,
   "id": "3e80c9dc",
   "metadata": {
    "extensions": {
     "jupyter_dashboards": {
      "version": 1,
      "views": {
       "grid_default": {},
       "report_default": {
        "hidden": true
       }
      }
     }
    }
   },
   "outputs": [],
   "source": [
    "train1 = pd.read_csv(\"Training 2021.csv\")"
   ]
  },
  {
   "cell_type": "code",
   "execution_count": 5,
   "id": "ddcc1c12",
   "metadata": {
    "extensions": {
     "jupyter_dashboards": {
      "version": 1,
      "views": {
       "grid_default": {},
       "report_default": {
        "hidden": true
       }
      }
     }
    }
   },
   "outputs": [],
   "source": [
    "test = pd.read_csv(\"Testpred 2022.csv\")"
   ]
  },
  {
   "cell_type": "code",
   "execution_count": 6,
   "id": "75a60c8a",
   "metadata": {
    "extensions": {
     "jupyter_dashboards": {
      "version": 1,
      "views": {
       "grid_default": {},
       "report_default": {
        "hidden": true
       }
      }
     }
    }
   },
   "outputs": [],
   "source": [
    "train2_len = len(train2)\n",
    "train1_len = len(train1)\n",
    "test_len = len(test)"
   ]
  },
  {
   "cell_type": "code",
   "execution_count": 7,
   "id": "f658682c",
   "metadata": {
    "extensions": {
     "jupyter_dashboards": {
      "version": 1,
      "views": {
       "grid_default": {},
       "report_default": {
        "hidden": true
       }
      }
     }
    }
   },
   "outputs": [
    {
     "data": {
      "text/html": [
       "<div>\n",
       "<style scoped>\n",
       "    .dataframe tbody tr th:only-of-type {\n",
       "        vertical-align: middle;\n",
       "    }\n",
       "\n",
       "    .dataframe tbody tr th {\n",
       "        vertical-align: top;\n",
       "    }\n",
       "\n",
       "    .dataframe thead th {\n",
       "        text-align: right;\n",
       "    }\n",
       "</style>\n",
       "<table border=\"1\" class=\"dataframe\">\n",
       "  <thead>\n",
       "    <tr style=\"text-align: right;\">\n",
       "      <th></th>\n",
       "      <th>Name</th>\n",
       "      <th>Size</th>\n",
       "      <th>Cost</th>\n",
       "      <th>Category</th>\n",
       "      <th>Sales</th>\n",
       "      <th>Year</th>\n",
       "    </tr>\n",
       "  </thead>\n",
       "  <tbody>\n",
       "    <tr>\n",
       "      <th>0</th>\n",
       "      <td>Kamias</td>\n",
       "      <td>Medium</td>\n",
       "      <td>100</td>\n",
       "      <td>Tree</td>\n",
       "      <td>3400.0</td>\n",
       "      <td>2020</td>\n",
       "    </tr>\n",
       "    <tr>\n",
       "      <th>1</th>\n",
       "      <td>Kalamasi</td>\n",
       "      <td>Medium</td>\n",
       "      <td>120</td>\n",
       "      <td>Tree</td>\n",
       "      <td>4080.0</td>\n",
       "      <td>2020</td>\n",
       "    </tr>\n",
       "    <tr>\n",
       "      <th>2</th>\n",
       "      <td>Papaya</td>\n",
       "      <td>Small</td>\n",
       "      <td>50</td>\n",
       "      <td>Tree</td>\n",
       "      <td>1700.0</td>\n",
       "      <td>2020</td>\n",
       "    </tr>\n",
       "    <tr>\n",
       "      <th>3</th>\n",
       "      <td>Tundan</td>\n",
       "      <td>Small</td>\n",
       "      <td>80</td>\n",
       "      <td>Tree</td>\n",
       "      <td>3200.0</td>\n",
       "      <td>2020</td>\n",
       "    </tr>\n",
       "    <tr>\n",
       "      <th>4</th>\n",
       "      <td>Lakatan</td>\n",
       "      <td>Small</td>\n",
       "      <td>150</td>\n",
       "      <td>Tree</td>\n",
       "      <td>10500.0</td>\n",
       "      <td>2020</td>\n",
       "    </tr>\n",
       "    <tr>\n",
       "      <th>5</th>\n",
       "      <td>Rambutan</td>\n",
       "      <td>Medium</td>\n",
       "      <td>250</td>\n",
       "      <td>Tree</td>\n",
       "      <td>5000.0</td>\n",
       "      <td>2020</td>\n",
       "    </tr>\n",
       "    <tr>\n",
       "      <th>6</th>\n",
       "      <td>Suha</td>\n",
       "      <td>Small</td>\n",
       "      <td>130</td>\n",
       "      <td>Tree</td>\n",
       "      <td>1950.0</td>\n",
       "      <td>2020</td>\n",
       "    </tr>\n",
       "    <tr>\n",
       "      <th>7</th>\n",
       "      <td>Atis</td>\n",
       "      <td>Medium</td>\n",
       "      <td>130</td>\n",
       "      <td>Tree</td>\n",
       "      <td>3770.0</td>\n",
       "      <td>2020</td>\n",
       "    </tr>\n",
       "    <tr>\n",
       "      <th>8</th>\n",
       "      <td>Guyabano</td>\n",
       "      <td>Medium</td>\n",
       "      <td>100</td>\n",
       "      <td>Tree</td>\n",
       "      <td>2200.0</td>\n",
       "      <td>2020</td>\n",
       "    </tr>\n",
       "    <tr>\n",
       "      <th>9</th>\n",
       "      <td>Kamias</td>\n",
       "      <td>Medium</td>\n",
       "      <td>100</td>\n",
       "      <td>Tree</td>\n",
       "      <td>3700.0</td>\n",
       "      <td>2021</td>\n",
       "    </tr>\n",
       "    <tr>\n",
       "      <th>10</th>\n",
       "      <td>Kalamasi</td>\n",
       "      <td>Medium</td>\n",
       "      <td>120</td>\n",
       "      <td>Tree</td>\n",
       "      <td>5060.0</td>\n",
       "      <td>2021</td>\n",
       "    </tr>\n",
       "    <tr>\n",
       "      <th>11</th>\n",
       "      <td>Papaya</td>\n",
       "      <td>Small</td>\n",
       "      <td>50</td>\n",
       "      <td>Tree</td>\n",
       "      <td>2500.0</td>\n",
       "      <td>2021</td>\n",
       "    </tr>\n",
       "    <tr>\n",
       "      <th>12</th>\n",
       "      <td>Tundan</td>\n",
       "      <td>Small</td>\n",
       "      <td>80</td>\n",
       "      <td>Tree</td>\n",
       "      <td>3400.0</td>\n",
       "      <td>2021</td>\n",
       "    </tr>\n",
       "    <tr>\n",
       "      <th>13</th>\n",
       "      <td>Lakatan</td>\n",
       "      <td>Small</td>\n",
       "      <td>150</td>\n",
       "      <td>Tree</td>\n",
       "      <td>9500.0</td>\n",
       "      <td>2021</td>\n",
       "    </tr>\n",
       "    <tr>\n",
       "      <th>14</th>\n",
       "      <td>Rambutan</td>\n",
       "      <td>Medium</td>\n",
       "      <td>250</td>\n",
       "      <td>Tree</td>\n",
       "      <td>4250.0</td>\n",
       "      <td>2021</td>\n",
       "    </tr>\n",
       "    <tr>\n",
       "      <th>15</th>\n",
       "      <td>Suha</td>\n",
       "      <td>Small</td>\n",
       "      <td>130</td>\n",
       "      <td>Tree</td>\n",
       "      <td>2950.0</td>\n",
       "      <td>2021</td>\n",
       "    </tr>\n",
       "    <tr>\n",
       "      <th>16</th>\n",
       "      <td>Atis</td>\n",
       "      <td>Medium</td>\n",
       "      <td>130</td>\n",
       "      <td>Tree</td>\n",
       "      <td>3370.0</td>\n",
       "      <td>2021</td>\n",
       "    </tr>\n",
       "    <tr>\n",
       "      <th>17</th>\n",
       "      <td>Guyabano</td>\n",
       "      <td>Medium</td>\n",
       "      <td>100</td>\n",
       "      <td>Tree</td>\n",
       "      <td>2800.0</td>\n",
       "      <td>2021</td>\n",
       "    </tr>\n",
       "    <tr>\n",
       "      <th>18</th>\n",
       "      <td>Kamias</td>\n",
       "      <td>Medium</td>\n",
       "      <td>100</td>\n",
       "      <td>Tree</td>\n",
       "      <td>NaN</td>\n",
       "      <td>2022</td>\n",
       "    </tr>\n",
       "    <tr>\n",
       "      <th>19</th>\n",
       "      <td>Kalamasi</td>\n",
       "      <td>Medium</td>\n",
       "      <td>120</td>\n",
       "      <td>Tree</td>\n",
       "      <td>NaN</td>\n",
       "      <td>2022</td>\n",
       "    </tr>\n",
       "    <tr>\n",
       "      <th>20</th>\n",
       "      <td>Papaya</td>\n",
       "      <td>Small</td>\n",
       "      <td>50</td>\n",
       "      <td>Tree</td>\n",
       "      <td>NaN</td>\n",
       "      <td>2022</td>\n",
       "    </tr>\n",
       "    <tr>\n",
       "      <th>21</th>\n",
       "      <td>Tundan</td>\n",
       "      <td>Small</td>\n",
       "      <td>80</td>\n",
       "      <td>Tree</td>\n",
       "      <td>NaN</td>\n",
       "      <td>2022</td>\n",
       "    </tr>\n",
       "    <tr>\n",
       "      <th>22</th>\n",
       "      <td>Lakatan</td>\n",
       "      <td>Small</td>\n",
       "      <td>150</td>\n",
       "      <td>Tree</td>\n",
       "      <td>NaN</td>\n",
       "      <td>2022</td>\n",
       "    </tr>\n",
       "    <tr>\n",
       "      <th>23</th>\n",
       "      <td>Rambutan</td>\n",
       "      <td>Medium</td>\n",
       "      <td>250</td>\n",
       "      <td>Tree</td>\n",
       "      <td>NaN</td>\n",
       "      <td>2022</td>\n",
       "    </tr>\n",
       "    <tr>\n",
       "      <th>24</th>\n",
       "      <td>Suha</td>\n",
       "      <td>Small</td>\n",
       "      <td>130</td>\n",
       "      <td>Tree</td>\n",
       "      <td>NaN</td>\n",
       "      <td>2022</td>\n",
       "    </tr>\n",
       "    <tr>\n",
       "      <th>25</th>\n",
       "      <td>Atis</td>\n",
       "      <td>Medium</td>\n",
       "      <td>130</td>\n",
       "      <td>Tree</td>\n",
       "      <td>NaN</td>\n",
       "      <td>2022</td>\n",
       "    </tr>\n",
       "    <tr>\n",
       "      <th>26</th>\n",
       "      <td>Guyabano</td>\n",
       "      <td>Medium</td>\n",
       "      <td>100</td>\n",
       "      <td>Tree</td>\n",
       "      <td>NaN</td>\n",
       "      <td>2022</td>\n",
       "    </tr>\n",
       "  </tbody>\n",
       "</table>\n",
       "</div>"
      ],
      "text/plain": [
       "        Name    Size  Cost Category    Sales  Year\n",
       "0     Kamias  Medium   100     Tree   3400.0  2020\n",
       "1   Kalamasi  Medium   120     Tree   4080.0  2020\n",
       "2     Papaya   Small    50     Tree   1700.0  2020\n",
       "3     Tundan   Small    80     Tree   3200.0  2020\n",
       "4    Lakatan   Small   150     Tree  10500.0  2020\n",
       "5   Rambutan  Medium   250     Tree   5000.0  2020\n",
       "6       Suha   Small   130     Tree   1950.0  2020\n",
       "7       Atis  Medium   130     Tree   3770.0  2020\n",
       "8   Guyabano  Medium   100     Tree   2200.0  2020\n",
       "9     Kamias  Medium   100     Tree   3700.0  2021\n",
       "10  Kalamasi  Medium   120     Tree   5060.0  2021\n",
       "11    Papaya   Small    50     Tree   2500.0  2021\n",
       "12    Tundan   Small    80     Tree   3400.0  2021\n",
       "13   Lakatan   Small   150     Tree   9500.0  2021\n",
       "14  Rambutan  Medium   250     Tree   4250.0  2021\n",
       "15      Suha   Small   130     Tree   2950.0  2021\n",
       "16      Atis  Medium   130     Tree   3370.0  2021\n",
       "17  Guyabano  Medium   100     Tree   2800.0  2021\n",
       "18    Kamias  Medium   100     Tree      NaN  2022\n",
       "19  Kalamasi  Medium   120     Tree      NaN  2022\n",
       "20    Papaya   Small    50     Tree      NaN  2022\n",
       "21    Tundan   Small    80     Tree      NaN  2022\n",
       "22   Lakatan   Small   150     Tree      NaN  2022\n",
       "23  Rambutan  Medium   250     Tree      NaN  2022\n",
       "24      Suha   Small   130     Tree      NaN  2022\n",
       "25      Atis  Medium   130     Tree      NaN  2022\n",
       "26  Guyabano  Medium   100     Tree      NaN  2022"
      ]
     },
     "execution_count": 7,
     "metadata": {},
     "output_type": "execute_result"
    }
   ],
   "source": [
    "df = pd.concat([train2, train1, test], axis=0)\n",
    "pd.set_option('display.max_rows', df.shape[0]+1)\n",
    "df.reset_index(drop=True, inplace=True)\n",
    "df"
   ]
  },
  {
   "cell_type": "code",
   "execution_count": 8,
   "id": "d7fac880",
   "metadata": {
    "extensions": {
     "jupyter_dashboards": {
      "version": 1,
      "views": {
       "grid_default": {},
       "report_default": {
        "hidden": true
       }
      }
     }
    }
   },
   "outputs": [],
   "source": [
    "%%capture\n",
    "print(len(train2), len(train1), len(test), len(df))"
   ]
  },
  {
   "cell_type": "code",
   "execution_count": 9,
   "id": "0ebf2f66",
   "metadata": {
    "extensions": {
     "jupyter_dashboards": {
      "version": 1,
      "views": {
       "grid_default": {},
       "report_default": {
        "hidden": true
       }
      }
     }
    }
   },
   "outputs": [],
   "source": [
    "%%capture\n",
    "df.apply(lambda x: len(x.unique()))"
   ]
  },
  {
   "cell_type": "code",
   "execution_count": 10,
   "id": "b228813b",
   "metadata": {
    "extensions": {
     "jupyter_dashboards": {
      "version": 1,
      "views": {
       "grid_default": {},
       "report_default": {
        "hidden": true
       }
      }
     }
    }
   },
   "outputs": [],
   "source": [
    "%%capture\n",
    "df.isnull().sum()"
   ]
  },
  {
   "cell_type": "code",
   "execution_count": 11,
   "id": "589c2551",
   "metadata": {
    "extensions": {
     "jupyter_dashboards": {
      "version": 1,
      "views": {
       "grid_default": {},
       "report_default": {
        "hidden": true
       }
      }
     }
    }
   },
   "outputs": [],
   "source": [
    "%%capture\n",
    "cat_col = []\n",
    "for x in df.dtypes.index:\n",
    "    if df.dtypes[x] == 'object':\n",
    "        cat_col.append(x)\n",
    "cat_col"
   ]
  },
  {
   "cell_type": "code",
   "execution_count": 12,
   "id": "17bd1b0d",
   "metadata": {
    "extensions": {
     "jupyter_dashboards": {
      "version": 1,
      "views": {
       "grid_default": {},
       "report_default": {
        "hidden": true
       }
      }
     }
    }
   },
   "outputs": [],
   "source": [
    "%%capture\n",
    "cat_col.remove('Name')\n",
    "cat_col"
   ]
  },
  {
   "cell_type": "code",
   "execution_count": 13,
   "id": "290d14e8",
   "metadata": {
    "extensions": {
     "jupyter_dashboards": {
      "version": 1,
      "views": {
       "grid_default": {},
       "report_default": {
        "hidden": true
       }
      }
     }
    }
   },
   "outputs": [],
   "source": [
    "%%capture\n",
    "for col in cat_col:\n",
    "    print(col)\n",
    "    print(df[col].value_counts())\n",
    "    print();"
   ]
  },
  {
   "cell_type": "code",
   "execution_count": 14,
   "id": "e39a306d",
   "metadata": {
    "extensions": {
     "jupyter_dashboards": {
      "version": 1,
      "views": {
       "grid_default": {},
       "report_default": {
        "hidden": true
       }
      }
     }
    }
   },
   "outputs": [],
   "source": [
    "%%capture\n",
    "size_mode = df.pivot_table(values = 'Size', columns = 'Category', aggfunc=(lambda x: x.mode()[0]))\n",
    "size_mode"
   ]
  },
  {
   "cell_type": "code",
   "execution_count": 15,
   "id": "b4106d8a",
   "metadata": {
    "extensions": {
     "jupyter_dashboards": {
      "version": 1,
      "views": {
       "grid_default": {},
       "report_default": {
        "hidden": true
       }
      }
     }
    }
   },
   "outputs": [],
   "source": [
    "miss_bool = df['Size'].isnull()\n",
    "df.loc[miss_bool, 'Size'] = df.loc[miss_bool, 'Category'].apply(lambda x: size_mode[x])"
   ]
  },
  {
   "cell_type": "code",
   "execution_count": 16,
   "id": "9b643433",
   "metadata": {
    "extensions": {
     "jupyter_dashboards": {
      "version": 1,
      "views": {
       "grid_default": {},
       "report_default": {
        "hidden": true
       }
      }
     }
    }
   },
   "outputs": [],
   "source": [
    "%%capture\n",
    "df['Size'].isnull().sum()"
   ]
  },
  {
   "cell_type": "code",
   "execution_count": 17,
   "id": "2edb228d",
   "metadata": {
    "extensions": {
     "jupyter_dashboards": {
      "version": 1,
      "views": {
       "grid_default": {},
       "report_default": {
        "hidden": true
       }
      }
     }
    }
   },
   "outputs": [],
   "source": [
    "df['Total_Year'] = 2022 - df['Year']"
   ]
  },
  {
   "cell_type": "code",
   "execution_count": 18,
   "id": "e5d2c8b1",
   "metadata": {
    "extensions": {
     "jupyter_dashboards": {
      "version": 1,
      "views": {
       "grid_default": {},
       "report_default": {
        "hidden": true
       }
      }
     }
    }
   },
   "outputs": [],
   "source": [
    "%%capture\n",
    "df['Total_Year']"
   ]
  },
  {
   "cell_type": "code",
   "execution_count": 19,
   "id": "4335f986",
   "metadata": {
    "extensions": {
     "jupyter_dashboards": {
      "version": 1,
      "views": {
       "grid_default": {},
       "report_default": {
        "hidden": true
       }
      }
     }
    }
   },
   "outputs": [],
   "source": [
    "%%capture\n",
    "df = pd.get_dummies(df, columns=[ 'Size', 'Category'])\n",
    "df.head();"
   ]
  },
  {
   "cell_type": "code",
   "execution_count": 20,
   "id": "35de8c7a",
   "metadata": {
    "extensions": {
     "jupyter_dashboards": {
      "version": 1,
      "views": {
       "grid_default": {},
       "report_default": {
        "hidden": true
       }
      }
     }
    }
   },
   "outputs": [],
   "source": [
    "%%capture\n",
    "df.tail();"
   ]
  },
  {
   "cell_type": "code",
   "execution_count": 21,
   "id": "16b27c70",
   "metadata": {
    "extensions": {
     "jupyter_dashboards": {
      "version": 1,
      "views": {
       "grid_default": {},
       "report_default": {
        "hidden": true
       }
      }
     }
    }
   },
   "outputs": [],
   "source": [
    "%%capture\n",
    "train2 = df.iloc[:train2_len,:]\n",
    "train1 = df.iloc[train2_len:,:]\n",
    "test = df.iloc[train2_len:,:]"
   ]
  },
  {
   "cell_type": "code",
   "execution_count": 22,
   "id": "9881a969",
   "metadata": {
    "extensions": {
     "jupyter_dashboards": {
      "version": 1,
      "views": {
       "grid_default": {},
       "report_default": {
        "hidden": true
       }
      }
     }
    }
   },
   "outputs": [],
   "source": [
    "%%capture\n",
    "test = test.drop(columns=['Sales'])\n",
    "test.head()"
   ]
  },
  {
   "cell_type": "code",
   "execution_count": 23,
   "id": "e9100802",
   "metadata": {
    "extensions": {
     "jupyter_dashboards": {
      "version": 1,
      "views": {
       "grid_default": {},
       "report_default": {
        "hidden": true
       }
      }
     }
    }
   },
   "outputs": [],
   "source": [
    "%%capture\n",
    "test.tail();"
   ]
  },
  {
   "cell_type": "code",
   "execution_count": 24,
   "id": "c182769a",
   "metadata": {
    "extensions": {
     "jupyter_dashboards": {
      "version": 1,
      "views": {
       "grid_default": {},
       "report_default": {
        "hidden": true
       }
      }
     }
    }
   },
   "outputs": [],
   "source": [
    "X = train2.drop(columns=['Year', 'Name', 'Sales'])\n",
    "y = train2['Sales']"
   ]
  },
  {
   "cell_type": "code",
   "execution_count": 25,
   "id": "ab793c95",
   "metadata": {},
   "outputs": [],
   "source": [
    "from sklearn.metrics import mean_squared_error\n",
    "def train2(model, X, y):\n",
    "    model.fit(X, y)\n",
    "    model.score(X, y)\n",
    "    "
   ]
  },
  {
   "cell_type": "code",
   "execution_count": 26,
   "id": "3a49a58b",
   "metadata": {
    "extensions": {
     "jupyter_dashboards": {
      "version": 1,
      "views": {
       "grid_default": {},
       "report_default": {
        "hidden": true
       }
      }
     }
    }
   },
   "outputs": [],
   "source": [
    "from sklearn.ensemble import RandomForestRegressor\n",
    "model = RandomForestRegressor()\n",
    "train2(model, X, y)\n",
    "coef = pd.Series(model.feature_importances_, X.columns).sort_values(ascending=False)"
   ]
  },
  {
   "cell_type": "code",
   "execution_count": 27,
   "id": "384ab035",
   "metadata": {
    "extensions": {
     "jupyter_dashboards": {
      "version": 1,
      "views": {
       "grid_default": {},
       "report_default": {
        "hidden": true
       }
      }
     }
    }
   },
   "outputs": [],
   "source": [
    "%%capture\n",
    "x_test = test.drop(columns=['Year', 'Name'])\n",
    "x_test.head();"
   ]
  },
  {
   "cell_type": "markdown",
   "id": "66232bfa",
   "metadata": {},
   "source": [
    "# Prediction"
   ]
  },
  {
   "cell_type": "code",
   "execution_count": 28,
   "id": "69a11ce4",
   "metadata": {},
   "outputs": [],
   "source": [
    "class RandomForestRegresor:\n",
    "    def __init__(self, n_trees=10, max_depth=3, min_samples_split=2, n_feature=None):\n",
    "        self.n_trees = n_trees\n",
    "        self.max_depth = max_depth\n",
    "        self.min_samples_split = min_samples_split\n",
    "        self.n_features = n_feature\n",
    "        self.trees = []\n",
    "\n",
    "    def fit(self, X, y):\n",
    "            X_sample, y_sample = self._bootstrap_samples(X, y)\n",
    "            tree.fit(X_sample, y_sample)\n",
    "            self.trees.append(tree)\n",
    "        \n",
    "    def _bootstrap_samples(self, X, y):\n",
    "        n_samples = X.shape[0]\n",
    "        idxs = np.random.choice(n_samples, n_samples, replace=True)\n",
    "        return X[idxs], y[idxs]\n",
    "\n",
    "    def predict(self, X):\n",
    "        predictions = np.array([tree.predict(X) for tree in self.trees])\n",
    "        return predictions\n"
   ]
  },
  {
   "cell_type": "raw",
   "id": "9271e28a",
   "metadata": {
    "extensions": {
     "jupyter_dashboards": {
      "version": 1,
      "views": {
       "grid_default": {},
       "report_default": {
        "hidden": true
       }
      }
     }
    }
   },
   "source": [
    "model = RandomForestRegresor()\n",
    "model.fit(X, y)"
   ]
  },
  {
   "cell_type": "code",
   "execution_count": 29,
   "id": "a1ab96b1",
   "metadata": {
    "extensions": {
     "jupyter_dashboards": {
      "version": 1,
      "views": {
       "grid_default": {},
       "report_default": {
        "hidden": true
       }
      }
     }
    },
    "scrolled": false
   },
   "outputs": [
    {
     "name": "stdout",
     "output_type": "stream",
     "text": [
      "Model Report Score Accuracy: 0.7799941025004666\n"
     ]
    }
   ],
   "source": [
    "pred = model.predict(X)\n",
    "print(\"Model Report Score Accuracy:\", model.score(X, y))"
   ]
  },
  {
   "cell_type": "code",
   "execution_count": 30,
   "id": "ccc51bb8",
   "metadata": {},
   "outputs": [
    {
     "data": {
      "text/plain": [
       "array([2939.1, 3913.6, 2115. , 2799.8, 7467.9, 6279.4, 2723.5, 3738.6,\n",
       "       2939.1, 2939.1, 3913.6, 2115. , 2799.8, 7467.9, 6279.4, 2723.5,\n",
       "       3738.6, 2939.1])"
      ]
     },
     "execution_count": 30,
     "metadata": {},
     "output_type": "execute_result"
    }
   ],
   "source": [
    "pred = model.predict(x_test)\n",
    "pred"
   ]
  },
  {
   "cell_type": "markdown",
   "id": "a2013e9b",
   "metadata": {
    "extensions": {
     "jupyter_dashboards": {
      "version": 1,
      "views": {
       "grid_default": {},
       "report_default": {
        "hidden": false
       }
      }
     }
    }
   },
   "source": [
    "# Annual Prediction result"
   ]
  },
  {
   "cell_type": "code",
   "execution_count": 31,
   "id": "13bb4c2d",
   "metadata": {
    "extensions": {
     "jupyter_dashboards": {
      "version": 1,
      "views": {
       "grid_default": {},
       "report_default": {
        "hidden": true
       }
      }
     }
    },
    "scrolled": true
   },
   "outputs": [
    {
     "data": {
      "text/html": [
       "<div>\n",
       "<style scoped>\n",
       "    .dataframe tbody tr th:only-of-type {\n",
       "        vertical-align: middle;\n",
       "    }\n",
       "\n",
       "    .dataframe tbody tr th {\n",
       "        vertical-align: top;\n",
       "    }\n",
       "\n",
       "    .dataframe thead th {\n",
       "        text-align: right;\n",
       "    }\n",
       "</style>\n",
       "<table border=\"1\" class=\"dataframe\">\n",
       "  <thead>\n",
       "    <tr style=\"text-align: right;\">\n",
       "      <th></th>\n",
       "      <th>Name</th>\n",
       "      <th>sales</th>\n",
       "      <th>Year</th>\n",
       "    </tr>\n",
       "  </thead>\n",
       "  <tbody>\n",
       "    <tr>\n",
       "      <th>9</th>\n",
       "      <td>Kamias</td>\n",
       "      <td>2939.1</td>\n",
       "      <td>2022</td>\n",
       "    </tr>\n",
       "    <tr>\n",
       "      <th>10</th>\n",
       "      <td>Kalamasi</td>\n",
       "      <td>3913.6</td>\n",
       "      <td>2022</td>\n",
       "    </tr>\n",
       "    <tr>\n",
       "      <th>11</th>\n",
       "      <td>Papaya</td>\n",
       "      <td>2115.0</td>\n",
       "      <td>2022</td>\n",
       "    </tr>\n",
       "    <tr>\n",
       "      <th>12</th>\n",
       "      <td>Tundan</td>\n",
       "      <td>2799.8</td>\n",
       "      <td>2022</td>\n",
       "    </tr>\n",
       "    <tr>\n",
       "      <th>13</th>\n",
       "      <td>Lakatan</td>\n",
       "      <td>7467.9</td>\n",
       "      <td>2022</td>\n",
       "    </tr>\n",
       "    <tr>\n",
       "      <th>14</th>\n",
       "      <td>Rambutan</td>\n",
       "      <td>6279.4</td>\n",
       "      <td>2022</td>\n",
       "    </tr>\n",
       "    <tr>\n",
       "      <th>15</th>\n",
       "      <td>Suha</td>\n",
       "      <td>2723.5</td>\n",
       "      <td>2022</td>\n",
       "    </tr>\n",
       "    <tr>\n",
       "      <th>16</th>\n",
       "      <td>Atis</td>\n",
       "      <td>3738.6</td>\n",
       "      <td>2022</td>\n",
       "    </tr>\n",
       "    <tr>\n",
       "      <th>17</th>\n",
       "      <td>Guyabano</td>\n",
       "      <td>2939.1</td>\n",
       "      <td>2022</td>\n",
       "    </tr>\n",
       "    <tr>\n",
       "      <th>18</th>\n",
       "      <td>Kamias</td>\n",
       "      <td>2939.1</td>\n",
       "      <td>2022</td>\n",
       "    </tr>\n",
       "    <tr>\n",
       "      <th>19</th>\n",
       "      <td>Kalamasi</td>\n",
       "      <td>3913.6</td>\n",
       "      <td>2022</td>\n",
       "    </tr>\n",
       "    <tr>\n",
       "      <th>20</th>\n",
       "      <td>Papaya</td>\n",
       "      <td>2115.0</td>\n",
       "      <td>2022</td>\n",
       "    </tr>\n",
       "    <tr>\n",
       "      <th>21</th>\n",
       "      <td>Tundan</td>\n",
       "      <td>2799.8</td>\n",
       "      <td>2022</td>\n",
       "    </tr>\n",
       "    <tr>\n",
       "      <th>22</th>\n",
       "      <td>Lakatan</td>\n",
       "      <td>7467.9</td>\n",
       "      <td>2022</td>\n",
       "    </tr>\n",
       "    <tr>\n",
       "      <th>23</th>\n",
       "      <td>Rambutan</td>\n",
       "      <td>6279.4</td>\n",
       "      <td>2022</td>\n",
       "    </tr>\n",
       "    <tr>\n",
       "      <th>24</th>\n",
       "      <td>Suha</td>\n",
       "      <td>2723.5</td>\n",
       "      <td>2022</td>\n",
       "    </tr>\n",
       "    <tr>\n",
       "      <th>25</th>\n",
       "      <td>Atis</td>\n",
       "      <td>3738.6</td>\n",
       "      <td>2022</td>\n",
       "    </tr>\n",
       "    <tr>\n",
       "      <th>26</th>\n",
       "      <td>Guyabano</td>\n",
       "      <td>2939.1</td>\n",
       "      <td>2022</td>\n",
       "    </tr>\n",
       "  </tbody>\n",
       "</table>\n",
       "</div>"
      ],
      "text/plain": [
       "        Name   sales  Year\n",
       "9     Kamias  2939.1  2022\n",
       "10  Kalamasi  3913.6  2022\n",
       "11    Papaya  2115.0  2022\n",
       "12    Tundan  2799.8  2022\n",
       "13   Lakatan  7467.9  2022\n",
       "14  Rambutan  6279.4  2022\n",
       "15      Suha  2723.5  2022\n",
       "16      Atis  3738.6  2022\n",
       "17  Guyabano  2939.1  2022\n",
       "18    Kamias  2939.1  2022\n",
       "19  Kalamasi  3913.6  2022\n",
       "20    Papaya  2115.0  2022\n",
       "21    Tundan  2799.8  2022\n",
       "22   Lakatan  7467.9  2022\n",
       "23  Rambutan  6279.4  2022\n",
       "24      Suha  2723.5  2022\n",
       "25      Atis  3738.6  2022\n",
       "26  Guyabano  2939.1  2022"
      ]
     },
     "execution_count": 31,
     "metadata": {},
     "output_type": "execute_result"
    }
   ],
   "source": [
    "mission = pd.DataFrame()\n",
    "mission['Name'] = test[\"Name\"]\n",
    "mission['sales'] = pred\n",
    "mission['Year'] = 2022\n",
    "pd.set_option('display.max_rows', df.shape[0]+1)\n",
    "mission\n"
   ]
  },
  {
   "cell_type": "markdown",
   "id": "a91b9309",
   "metadata": {
    "extensions": {
     "jupyter_dashboards": {
      "version": 1,
      "views": {
       "grid_default": {},
       "report_default": {}
      }
     }
    }
   },
   "source": [
    "# Quarterly Prediction"
   ]
  },
  {
   "cell_type": "code",
   "execution_count": 32,
   "id": "104eacc5",
   "metadata": {
    "extensions": {
     "jupyter_dashboards": {
      "version": 1,
      "views": {
       "grid_default": {},
       "report_default": {}
      }
     }
    },
    "scrolled": true
   },
   "outputs": [
    {
     "data": {
      "text/html": [
       "<div>\n",
       "<style scoped>\n",
       "    .dataframe tbody tr th:only-of-type {\n",
       "        vertical-align: middle;\n",
       "    }\n",
       "\n",
       "    .dataframe tbody tr th {\n",
       "        vertical-align: top;\n",
       "    }\n",
       "\n",
       "    .dataframe thead th {\n",
       "        text-align: right;\n",
       "    }\n",
       "</style>\n",
       "<table border=\"1\" class=\"dataframe\">\n",
       "  <thead>\n",
       "    <tr style=\"text-align: right;\">\n",
       "      <th></th>\n",
       "      <th>Name</th>\n",
       "      <th>sales</th>\n",
       "      <th>Quarterly</th>\n",
       "    </tr>\n",
       "  </thead>\n",
       "  <tbody>\n",
       "    <tr>\n",
       "      <th>9</th>\n",
       "      <td>Kamias</td>\n",
       "      <td>244.925000</td>\n",
       "      <td>3</td>\n",
       "    </tr>\n",
       "    <tr>\n",
       "      <th>10</th>\n",
       "      <td>Kalamasi</td>\n",
       "      <td>326.133333</td>\n",
       "      <td>3</td>\n",
       "    </tr>\n",
       "    <tr>\n",
       "      <th>11</th>\n",
       "      <td>Papaya</td>\n",
       "      <td>176.250000</td>\n",
       "      <td>3</td>\n",
       "    </tr>\n",
       "    <tr>\n",
       "      <th>12</th>\n",
       "      <td>Tundan</td>\n",
       "      <td>233.316667</td>\n",
       "      <td>3</td>\n",
       "    </tr>\n",
       "    <tr>\n",
       "      <th>13</th>\n",
       "      <td>Lakatan</td>\n",
       "      <td>622.325000</td>\n",
       "      <td>3</td>\n",
       "    </tr>\n",
       "    <tr>\n",
       "      <th>14</th>\n",
       "      <td>Rambutan</td>\n",
       "      <td>523.283333</td>\n",
       "      <td>3</td>\n",
       "    </tr>\n",
       "    <tr>\n",
       "      <th>15</th>\n",
       "      <td>Suha</td>\n",
       "      <td>226.958333</td>\n",
       "      <td>3</td>\n",
       "    </tr>\n",
       "    <tr>\n",
       "      <th>16</th>\n",
       "      <td>Atis</td>\n",
       "      <td>311.550000</td>\n",
       "      <td>3</td>\n",
       "    </tr>\n",
       "    <tr>\n",
       "      <th>17</th>\n",
       "      <td>Guyabano</td>\n",
       "      <td>244.925000</td>\n",
       "      <td>3</td>\n",
       "    </tr>\n",
       "    <tr>\n",
       "      <th>18</th>\n",
       "      <td>Kamias</td>\n",
       "      <td>244.925000</td>\n",
       "      <td>3</td>\n",
       "    </tr>\n",
       "    <tr>\n",
       "      <th>19</th>\n",
       "      <td>Kalamasi</td>\n",
       "      <td>326.133333</td>\n",
       "      <td>3</td>\n",
       "    </tr>\n",
       "    <tr>\n",
       "      <th>20</th>\n",
       "      <td>Papaya</td>\n",
       "      <td>176.250000</td>\n",
       "      <td>3</td>\n",
       "    </tr>\n",
       "    <tr>\n",
       "      <th>21</th>\n",
       "      <td>Tundan</td>\n",
       "      <td>233.316667</td>\n",
       "      <td>3</td>\n",
       "    </tr>\n",
       "    <tr>\n",
       "      <th>22</th>\n",
       "      <td>Lakatan</td>\n",
       "      <td>622.325000</td>\n",
       "      <td>3</td>\n",
       "    </tr>\n",
       "    <tr>\n",
       "      <th>23</th>\n",
       "      <td>Rambutan</td>\n",
       "      <td>523.283333</td>\n",
       "      <td>3</td>\n",
       "    </tr>\n",
       "    <tr>\n",
       "      <th>24</th>\n",
       "      <td>Suha</td>\n",
       "      <td>226.958333</td>\n",
       "      <td>3</td>\n",
       "    </tr>\n",
       "    <tr>\n",
       "      <th>25</th>\n",
       "      <td>Atis</td>\n",
       "      <td>311.550000</td>\n",
       "      <td>3</td>\n",
       "    </tr>\n",
       "    <tr>\n",
       "      <th>26</th>\n",
       "      <td>Guyabano</td>\n",
       "      <td>244.925000</td>\n",
       "      <td>3</td>\n",
       "    </tr>\n",
       "  </tbody>\n",
       "</table>\n",
       "</div>"
      ],
      "text/plain": [
       "        Name       sales  Quarterly\n",
       "9     Kamias  244.925000          3\n",
       "10  Kalamasi  326.133333          3\n",
       "11    Papaya  176.250000          3\n",
       "12    Tundan  233.316667          3\n",
       "13   Lakatan  622.325000          3\n",
       "14  Rambutan  523.283333          3\n",
       "15      Suha  226.958333          3\n",
       "16      Atis  311.550000          3\n",
       "17  Guyabano  244.925000          3\n",
       "18    Kamias  244.925000          3\n",
       "19  Kalamasi  326.133333          3\n",
       "20    Papaya  176.250000          3\n",
       "21    Tundan  233.316667          3\n",
       "22   Lakatan  622.325000          3\n",
       "23  Rambutan  523.283333          3\n",
       "24      Suha  226.958333          3\n",
       "25      Atis  311.550000          3\n",
       "26  Guyabano  244.925000          3"
      ]
     },
     "execution_count": 32,
     "metadata": {},
     "output_type": "execute_result"
    }
   ],
   "source": [
    "mission = pd.DataFrame()\n",
    "mission['Name'] = test[\"Name\"]\n",
    "mission['sales'] = pred / 12\n",
    "mission['Quarterly'] = 3\n",
    "pd.set_option('display.max_rows', df.shape[0]+1)\n",
    "mission"
   ]
  },
  {
   "cell_type": "markdown",
   "id": "3c0e3ae2",
   "metadata": {
    "extensions": {
     "jupyter_dashboards": {
      "version": 1,
      "views": {
       "grid_default": {},
       "report_default": {}
      }
     }
    }
   },
   "source": [
    "# Monthly Prediction"
   ]
  },
  {
   "cell_type": "code",
   "execution_count": 33,
   "id": "243f735f",
   "metadata": {
    "extensions": {
     "jupyter_dashboards": {
      "version": 1,
      "views": {
       "grid_default": {},
       "report_default": {}
      }
     }
    }
   },
   "outputs": [
    {
     "data": {
      "text/html": [
       "<div>\n",
       "<style scoped>\n",
       "    .dataframe tbody tr th:only-of-type {\n",
       "        vertical-align: middle;\n",
       "    }\n",
       "\n",
       "    .dataframe tbody tr th {\n",
       "        vertical-align: top;\n",
       "    }\n",
       "\n",
       "    .dataframe thead th {\n",
       "        text-align: right;\n",
       "    }\n",
       "</style>\n",
       "<table border=\"1\" class=\"dataframe\">\n",
       "  <thead>\n",
       "    <tr style=\"text-align: right;\">\n",
       "      <th></th>\n",
       "      <th>Name</th>\n",
       "      <th>sales</th>\n",
       "      <th>monthly</th>\n",
       "    </tr>\n",
       "  </thead>\n",
       "  <tbody>\n",
       "    <tr>\n",
       "      <th>9</th>\n",
       "      <td>Kamias</td>\n",
       "      <td>81.641667</td>\n",
       "      <td>1</td>\n",
       "    </tr>\n",
       "    <tr>\n",
       "      <th>10</th>\n",
       "      <td>Kalamasi</td>\n",
       "      <td>108.711111</td>\n",
       "      <td>1</td>\n",
       "    </tr>\n",
       "    <tr>\n",
       "      <th>11</th>\n",
       "      <td>Papaya</td>\n",
       "      <td>58.750000</td>\n",
       "      <td>1</td>\n",
       "    </tr>\n",
       "    <tr>\n",
       "      <th>12</th>\n",
       "      <td>Tundan</td>\n",
       "      <td>77.772222</td>\n",
       "      <td>1</td>\n",
       "    </tr>\n",
       "    <tr>\n",
       "      <th>13</th>\n",
       "      <td>Lakatan</td>\n",
       "      <td>207.441667</td>\n",
       "      <td>1</td>\n",
       "    </tr>\n",
       "    <tr>\n",
       "      <th>14</th>\n",
       "      <td>Rambutan</td>\n",
       "      <td>174.427778</td>\n",
       "      <td>1</td>\n",
       "    </tr>\n",
       "    <tr>\n",
       "      <th>15</th>\n",
       "      <td>Suha</td>\n",
       "      <td>75.652778</td>\n",
       "      <td>1</td>\n",
       "    </tr>\n",
       "    <tr>\n",
       "      <th>16</th>\n",
       "      <td>Atis</td>\n",
       "      <td>103.850000</td>\n",
       "      <td>1</td>\n",
       "    </tr>\n",
       "    <tr>\n",
       "      <th>17</th>\n",
       "      <td>Guyabano</td>\n",
       "      <td>81.641667</td>\n",
       "      <td>1</td>\n",
       "    </tr>\n",
       "    <tr>\n",
       "      <th>18</th>\n",
       "      <td>Kamias</td>\n",
       "      <td>81.641667</td>\n",
       "      <td>1</td>\n",
       "    </tr>\n",
       "    <tr>\n",
       "      <th>19</th>\n",
       "      <td>Kalamasi</td>\n",
       "      <td>108.711111</td>\n",
       "      <td>1</td>\n",
       "    </tr>\n",
       "    <tr>\n",
       "      <th>20</th>\n",
       "      <td>Papaya</td>\n",
       "      <td>58.750000</td>\n",
       "      <td>1</td>\n",
       "    </tr>\n",
       "    <tr>\n",
       "      <th>21</th>\n",
       "      <td>Tundan</td>\n",
       "      <td>77.772222</td>\n",
       "      <td>1</td>\n",
       "    </tr>\n",
       "    <tr>\n",
       "      <th>22</th>\n",
       "      <td>Lakatan</td>\n",
       "      <td>207.441667</td>\n",
       "      <td>1</td>\n",
       "    </tr>\n",
       "    <tr>\n",
       "      <th>23</th>\n",
       "      <td>Rambutan</td>\n",
       "      <td>174.427778</td>\n",
       "      <td>1</td>\n",
       "    </tr>\n",
       "    <tr>\n",
       "      <th>24</th>\n",
       "      <td>Suha</td>\n",
       "      <td>75.652778</td>\n",
       "      <td>1</td>\n",
       "    </tr>\n",
       "    <tr>\n",
       "      <th>25</th>\n",
       "      <td>Atis</td>\n",
       "      <td>103.850000</td>\n",
       "      <td>1</td>\n",
       "    </tr>\n",
       "    <tr>\n",
       "      <th>26</th>\n",
       "      <td>Guyabano</td>\n",
       "      <td>81.641667</td>\n",
       "      <td>1</td>\n",
       "    </tr>\n",
       "  </tbody>\n",
       "</table>\n",
       "</div>"
      ],
      "text/plain": [
       "        Name       sales  monthly\n",
       "9     Kamias   81.641667        1\n",
       "10  Kalamasi  108.711111        1\n",
       "11    Papaya   58.750000        1\n",
       "12    Tundan   77.772222        1\n",
       "13   Lakatan  207.441667        1\n",
       "14  Rambutan  174.427778        1\n",
       "15      Suha   75.652778        1\n",
       "16      Atis  103.850000        1\n",
       "17  Guyabano   81.641667        1\n",
       "18    Kamias   81.641667        1\n",
       "19  Kalamasi  108.711111        1\n",
       "20    Papaya   58.750000        1\n",
       "21    Tundan   77.772222        1\n",
       "22   Lakatan  207.441667        1\n",
       "23  Rambutan  174.427778        1\n",
       "24      Suha   75.652778        1\n",
       "25      Atis  103.850000        1\n",
       "26  Guyabano   81.641667        1"
      ]
     },
     "execution_count": 33,
     "metadata": {},
     "output_type": "execute_result"
    }
   ],
   "source": [
    "mission = pd.DataFrame()\n",
    "mission['Name'] = test[\"Name\"]\n",
    "mission['sales'] = pred / 36\n",
    "mission['monthly'] = 1\n",
    "pd.set_option('display.max_rows', df.shape[0]+1)\n",
    "mission"
   ]
  }
 ],
 "metadata": {
  "extensions": {
   "jupyter_dashboards": {
    "activeView": "grid_default",
    "version": 1,
    "views": {
     "grid_default": {
      "cellMargin": 10,
      "defaultCellHeight": 20,
      "maxColumns": 12,
      "name": "grid",
      "type": "grid"
     },
     "report_default": {
      "name": "report",
      "type": "report"
     }
    }
   }
  },
  "hide_input": false,
  "kernelspec": {
   "display_name": "f",
   "language": "python",
   "name": "f"
  },
  "language_info": {
   "codemirror_mode": {
    "name": "ipython",
    "version": 3
   },
   "file_extension": ".py",
   "mimetype": "text/x-python",
   "name": "python",
   "nbconvert_exporter": "python",
   "pygments_lexer": "ipython3",
   "version": "3.11.4"
  }
 },
 "nbformat": 4,
 "nbformat_minor": 5
}
