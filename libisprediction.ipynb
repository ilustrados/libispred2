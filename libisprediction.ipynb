{
 "cells": [
  {
   "cell_type": "code",
   "execution_count": 1,
   "id": "51b65392",
   "metadata": {
    "extensions": {
     "jupyter_dashboards": {
      "version": 1,
      "views": {
       "grid_default": {},
       "report_default": {}
      }
     }
    }
   },
   "outputs": [
    {
     "data": {
      "text/html": [
       "<h1><img src=\"logo.png\" style=\"background-color: black\"></h1>"
      ],
      "text/plain": [
       "<IPython.core.display.HTML object>"
      ]
     },
     "metadata": {},
     "output_type": "display_data"
    }
   ],
   "source": [
    "from IPython.display import display, HTML\n",
    "display(HTML('<h1><img src=\"logo.png\" style=\"background-color: black\"></h1>'))"
   ]
  },
  {
   "cell_type": "code",
   "execution_count": 2,
   "id": "1e2b0009",
   "metadata": {
    "extensions": {
     "jupyter_dashboards": {
      "version": 1,
      "views": {
       "grid_default": {},
       "report_default": {}
      }
     }
    }
   },
   "outputs": [],
   "source": [
    "import pandas as pd\n",
    "import numpy as np\n",
    "import warnings\n",
    "warnings.filterwarnings('ignore')"
   ]
  },
  {
   "cell_type": "markdown",
   "id": "6668f755",
   "metadata": {
    "extensions": {
     "jupyter_dashboards": {
      "version": 1,
      "views": {
       "grid_default": {},
       "report_default": {}
      }
     }
    }
   },
   "source": [
    "# Annual Prediction "
   ]
  },
  {
   "cell_type": "code",
   "execution_count": 3,
   "id": "b4192724",
   "metadata": {
    "extensions": {
     "jupyter_dashboards": {
      "version": 1,
      "views": {
       "grid_default": {},
       "report_default": {}
      }
     }
    }
   },
   "outputs": [],
   "source": [
    "train2 = pd.read_csv(\"Bihis 2020.csv\")"
   ]
  },
  {
   "cell_type": "code",
   "execution_count": 4,
   "id": "9a8b057c",
   "metadata": {
    "extensions": {
     "jupyter_dashboards": {
      "version": 1,
      "views": {
       "grid_default": {},
       "report_default": {
        "hidden": true
       }
      }
     }
    }
   },
   "outputs": [],
   "source": [
    "train1 = pd.read_csv(\"Bihis 2021.csv\")"
   ]
  },
  {
   "cell_type": "code",
   "execution_count": 5,
   "id": "4beb1f96",
   "metadata": {
    "extensions": {
     "jupyter_dashboards": {
      "version": 1,
      "views": {
       "grid_default": {},
       "report_default": {
        "hidden": true
       }
      }
     }
    }
   },
   "outputs": [],
   "source": [
    "test = pd.read_csv(\"Bihis 2022.csv\")"
   ]
  },
  {
   "cell_type": "code",
   "execution_count": 6,
   "id": "45268c8f",
   "metadata": {
    "extensions": {
     "jupyter_dashboards": {
      "version": 1,
      "views": {
       "grid_default": {},
       "report_default": {
        "hidden": true
       }
      }
     }
    }
   },
   "outputs": [],
   "source": [
    "train2_len = len(train2)\n",
    "train1_len = len(train1)\n",
    "test_len = len(test)"
   ]
  },
  {
   "cell_type": "code",
   "execution_count": 7,
   "id": "c98bdb7b",
   "metadata": {
    "extensions": {
     "jupyter_dashboards": {
      "version": 1,
      "views": {
       "grid_default": {},
       "report_default": {
        "hidden": true
       }
      }
     }
    }
   },
   "outputs": [],
   "source": [
    "df = pd.concat([train2, train1, test], axis=0)\n",
    "pd.set_option('display.max_rows', df.shape[0]+1)\n",
    "df.reset_index(drop=True, inplace=True)"
   ]
  },
  {
   "cell_type": "code",
   "execution_count": 8,
   "id": "ab024c19",
   "metadata": {
    "extensions": {
     "jupyter_dashboards": {
      "version": 1,
      "views": {
       "grid_default": {},
       "report_default": {
        "hidden": true
       }
      }
     }
    }
   },
   "outputs": [],
   "source": [
    "%%capture\n",
    "print(len(train2), len(train1), len(test), len(df))"
   ]
  },
  {
   "cell_type": "code",
   "execution_count": 9,
   "id": "5d651352",
   "metadata": {
    "extensions": {
     "jupyter_dashboards": {
      "version": 1,
      "views": {
       "grid_default": {},
       "report_default": {
        "hidden": true
       }
      }
     }
    }
   },
   "outputs": [],
   "source": [
    "%%capture\n",
    "df.apply(lambda x: len(x.unique()))"
   ]
  },
  {
   "cell_type": "code",
   "execution_count": 10,
   "id": "0397c7af",
   "metadata": {
    "extensions": {
     "jupyter_dashboards": {
      "version": 1,
      "views": {
       "grid_default": {},
       "report_default": {
        "hidden": true
       }
      }
     }
    }
   },
   "outputs": [],
   "source": [
    "%%capture\n",
    "df.isnull().sum()"
   ]
  },
  {
   "cell_type": "code",
   "execution_count": 11,
   "id": "f45ed3a5",
   "metadata": {
    "extensions": {
     "jupyter_dashboards": {
      "version": 1,
      "views": {
       "grid_default": {},
       "report_default": {
        "hidden": true
       }
      }
     }
    }
   },
   "outputs": [],
   "source": [
    "%%capture\n",
    "cat_col = []\n",
    "for x in df.dtypes.index:\n",
    "    if df.dtypes[x] == 'object':\n",
    "        cat_col.append(x)\n",
    "cat_col"
   ]
  },
  {
   "cell_type": "code",
   "execution_count": 12,
   "id": "459ca621",
   "metadata": {
    "extensions": {
     "jupyter_dashboards": {
      "version": 1,
      "views": {
       "grid_default": {},
       "report_default": {
        "hidden": true
       }
      }
     }
    }
   },
   "outputs": [],
   "source": [
    "%%capture\n",
    "cat_col.remove('Name')\n",
    "cat_col"
   ]
  },
  {
   "cell_type": "code",
   "execution_count": 13,
   "id": "eb52cf2e",
   "metadata": {
    "extensions": {
     "jupyter_dashboards": {
      "version": 1,
      "views": {
       "grid_default": {},
       "report_default": {
        "hidden": true
       }
      }
     }
    }
   },
   "outputs": [],
   "source": [
    "%%capture\n",
    "for col in cat_col:\n",
    "    print(col)\n",
    "    print(df[col].value_counts())\n",
    "    print();"
   ]
  },
  {
   "cell_type": "code",
   "execution_count": 14,
   "id": "7d9c8332",
   "metadata": {
    "extensions": {
     "jupyter_dashboards": {
      "version": 1,
      "views": {
       "grid_default": {},
       "report_default": {
        "hidden": true
       }
      }
     }
    }
   },
   "outputs": [],
   "source": [
    "%%capture\n",
    "size_mode = df.pivot_table(values = 'Size', columns = 'Category', aggfunc=(lambda x: x.mode()[0]))\n",
    "size_mode"
   ]
  },
  {
   "cell_type": "code",
   "execution_count": 15,
   "id": "4280ae20",
   "metadata": {
    "extensions": {
     "jupyter_dashboards": {
      "version": 1,
      "views": {
       "grid_default": {},
       "report_default": {
        "hidden": true
       }
      }
     }
    }
   },
   "outputs": [],
   "source": [
    "miss_bool = df['Size'].isnull()\n",
    "df.loc[miss_bool, 'Size'] = df.loc[miss_bool, 'Category'].apply(lambda x: size_mode[x])"
   ]
  },
  {
   "cell_type": "code",
   "execution_count": 16,
   "id": "1f379e56",
   "metadata": {
    "extensions": {
     "jupyter_dashboards": {
      "version": 1,
      "views": {
       "grid_default": {},
       "report_default": {
        "hidden": true
       }
      }
     }
    }
   },
   "outputs": [],
   "source": [
    "%%capture\n",
    "df['Size'].isnull().sum()"
   ]
  },
  {
   "cell_type": "code",
   "execution_count": 17,
   "id": "355dda9b",
   "metadata": {
    "extensions": {
     "jupyter_dashboards": {
      "version": 1,
      "views": {
       "grid_default": {},
       "report_default": {
        "hidden": true
       }
      }
     }
    }
   },
   "outputs": [],
   "source": [
    "df['Total_Year'] = 2022 - df['Year']"
   ]
  },
  {
   "cell_type": "code",
   "execution_count": 18,
   "id": "8b350cac",
   "metadata": {
    "extensions": {
     "jupyter_dashboards": {
      "version": 1,
      "views": {
       "grid_default": {},
       "report_default": {
        "hidden": true
       }
      }
     }
    }
   },
   "outputs": [],
   "source": [
    "%%capture\n",
    "df['Total_Year']"
   ]
  },
  {
   "cell_type": "code",
   "execution_count": 19,
   "id": "ba5f5c18",
   "metadata": {
    "extensions": {
     "jupyter_dashboards": {
      "version": 1,
      "views": {
       "grid_default": {},
       "report_default": {
        "hidden": true
       }
      }
     }
    }
   },
   "outputs": [],
   "source": [
    "%%capture\n",
    "df = pd.get_dummies(df, columns=[ 'Size', 'Category'])\n",
    "df.head();"
   ]
  },
  {
   "cell_type": "code",
   "execution_count": 20,
   "id": "9f9d8d91",
   "metadata": {
    "extensions": {
     "jupyter_dashboards": {
      "version": 1,
      "views": {
       "grid_default": {},
       "report_default": {
        "hidden": true
       }
      }
     }
    }
   },
   "outputs": [],
   "source": [
    "%%capture\n",
    "df.tail();"
   ]
  },
  {
   "cell_type": "code",
   "execution_count": 21,
   "id": "b9121d81",
   "metadata": {
    "extensions": {
     "jupyter_dashboards": {
      "version": 1,
      "views": {
       "grid_default": {},
       "report_default": {
        "hidden": true
       }
      }
     }
    }
   },
   "outputs": [],
   "source": [
    "%%capture\n",
    "train2 = df.iloc[:train2_len,:]\n",
    "train1 = df.iloc[train2_len:,:]\n",
    "test = df.iloc[train2_len:,:]"
   ]
  },
  {
   "cell_type": "code",
   "execution_count": 22,
   "id": "8b635da6",
   "metadata": {
    "extensions": {
     "jupyter_dashboards": {
      "version": 1,
      "views": {
       "grid_default": {},
       "report_default": {
        "hidden": true
       }
      }
     }
    }
   },
   "outputs": [],
   "source": [
    "%%capture\n",
    "test = test.drop(columns=['Sales'])\n",
    "test.head()"
   ]
  },
  {
   "cell_type": "code",
   "execution_count": 23,
   "id": "ddb9a787",
   "metadata": {
    "extensions": {
     "jupyter_dashboards": {
      "version": 1,
      "views": {
       "grid_default": {},
       "report_default": {
        "hidden": true
       }
      }
     }
    }
   },
   "outputs": [],
   "source": [
    "%%capture\n",
    "test.tail();"
   ]
  },
  {
   "cell_type": "code",
   "execution_count": 24,
   "id": "9edbac8a",
   "metadata": {
    "extensions": {
     "jupyter_dashboards": {
      "version": 1,
      "views": {
       "grid_default": {},
       "report_default": {
        "hidden": true
       }
      }
     }
    }
   },
   "outputs": [],
   "source": [
    "X = train2.drop(columns=['Year', 'Name', 'Sales'])\n",
    "y = train2['Sales']"
   ]
  },
  {
   "cell_type": "code",
   "execution_count": 25,
   "id": "bc109985",
   "metadata": {},
   "outputs": [],
   "source": [
    "from sklearn.model_selection import cross_val_score\n",
    "from sklearn.metrics import mean_squared_error\n",
    "def train2(model, X, y):\n",
    "    model.fit(X, y)\n",
    "    model.score(X, y)\n",
    "    "
   ]
  },
  {
   "cell_type": "markdown",
   "id": "1594a055",
   "metadata": {
    "extensions": {
     "jupyter_dashboards": {
      "version": 1,
      "views": {
       "grid_default": {},
       "report_default": {}
      }
     }
    }
   },
   "source": [
    "# Accuracy of model"
   ]
  },
  {
   "cell_type": "code",
   "execution_count": 26,
   "id": "6a570018",
   "metadata": {
    "extensions": {
     "jupyter_dashboards": {
      "version": 1,
      "views": {
       "grid_default": {},
       "report_default": {
        "hidden": true
       }
      }
     }
    }
   },
   "outputs": [],
   "source": [
    "from sklearn.ensemble import RandomForestRegressor\n",
    "model = RandomForestRegressor()\n",
    "train2(model, X, y)\n",
    "coef = pd.Series(model.feature_importances_, X.columns).sort_values(ascending=False)"
   ]
  },
  {
   "cell_type": "code",
   "execution_count": 27,
   "id": "7d2c3f27",
   "metadata": {
    "extensions": {
     "jupyter_dashboards": {
      "version": 1,
      "views": {
       "grid_default": {},
       "report_default": {
        "hidden": true
       }
      }
     }
    }
   },
   "outputs": [],
   "source": [
    "%%capture\n",
    "x_test = test.drop(columns=['Year', 'Name'])\n",
    "x_test.head();"
   ]
  },
  {
   "cell_type": "markdown",
   "id": "5c6d7d9a",
   "metadata": {},
   "source": [
    "# Prediction"
   ]
  },
  {
   "cell_type": "raw",
   "id": "ea55e65e",
   "metadata": {
    "extensions": {
     "jupyter_dashboards": {
      "version": 1,
      "views": {
       "grid_default": {},
       "report_default": {
        "hidden": true
       }
      }
     }
    }
   },
   "source": [
    "from ensemble.RandomForestRegresor import RandomForestRegresor\n",
    "model = RandomForestRegresor()\n",
    "model.fit(X, y)"
   ]
  },
  {
   "cell_type": "code",
   "execution_count": 28,
   "id": "eb74882e",
   "metadata": {
    "extensions": {
     "jupyter_dashboards": {
      "version": 1,
      "views": {
       "grid_default": {},
       "report_default": {
        "hidden": true
       }
      }
     }
    },
    "scrolled": false
   },
   "outputs": [
    {
     "name": "stdout",
     "output_type": "stream",
     "text": [
      "Model Report Score: 0.8199548733018005\n",
      "Accuracy: 756756.4905620199\n",
      "CrossValidationScore: 5490420.491464824\n"
     ]
    }
   ],
   "source": [
    "pred = model.predict(X)\n",
    "cv_score = cross_val_score(model, X, y, scoring='neg_mean_squared_error', cv=5)\n",
    "cv_score = np.abs(np.mean(cv_score))\n",
    "print(\"Model Report Score:\", model.score(X, y))\n",
    "print(\"Accuracy:\", mean_squared_error(y,pred))\n",
    "print(\"CrossValidationScore:\", cv_score)\n"
   ]
  },
  {
   "cell_type": "code",
   "execution_count": 29,
   "id": "46562f83",
   "metadata": {},
   "outputs": [
    {
     "data": {
      "text/plain": [
       "array([2726.0952381 , 3782.75095238, 1903.3       , 2640.62238095,\n",
       "       7645.46571429, 3392.5       , 2239.87833333, 3474.20095238,\n",
       "       2726.0952381 , 1417.93333333, 2239.87833333, 2726.0952381 ,\n",
       "       2682.33214286, 2239.87833333, 3078.08333333, 1417.93333333,\n",
       "       2239.87833333, 3392.5       , 3086.        , 6704.13333333,\n",
       "       4399.3       , 4563.7       , 2397.6       , 2177.4       ,\n",
       "       2790.4       , 2229.73333333, 1693.        , 2590.5       ,\n",
       "       7645.46571429, 3078.08333333, 2726.0952381 , 3782.75095238,\n",
       "       1903.3       , 2640.62238095, 7645.46571429, 3392.5       ,\n",
       "       2239.87833333, 3474.20095238, 2726.0952381 , 1417.93333333,\n",
       "       2239.87833333, 2726.0952381 , 2682.33214286, 2239.87833333,\n",
       "       3078.08333333, 1417.93333333, 2239.87833333, 3392.5       ,\n",
       "       3086.        , 6704.13333333, 4399.3       , 4563.7       ,\n",
       "       2397.6       , 2177.4       , 2790.4       , 2229.73333333,\n",
       "       1693.        , 2590.5       , 7645.46571429, 3078.08333333])"
      ]
     },
     "execution_count": 29,
     "metadata": {},
     "output_type": "execute_result"
    }
   ],
   "source": [
    "pred = model.predict(x_test)\n",
    "pred"
   ]
  },
  {
   "cell_type": "markdown",
   "id": "eefd5682",
   "metadata": {
    "extensions": {
     "jupyter_dashboards": {
      "version": 1,
      "views": {
       "grid_default": {},
       "report_default": {
        "hidden": false
       }
      }
     }
    }
   },
   "source": [
    "# Annual Prediction result"
   ]
  },
  {
   "cell_type": "code",
   "execution_count": 30,
   "id": "932f2947",
   "metadata": {
    "extensions": {
     "jupyter_dashboards": {
      "version": 1,
      "views": {
       "grid_default": {},
       "report_default": {
        "hidden": true
       }
      }
     }
    }
   },
   "outputs": [
    {
     "data": {
      "text/html": [
       "<div>\n",
       "<style scoped>\n",
       "    .dataframe tbody tr th:only-of-type {\n",
       "        vertical-align: middle;\n",
       "    }\n",
       "\n",
       "    .dataframe tbody tr th {\n",
       "        vertical-align: top;\n",
       "    }\n",
       "\n",
       "    .dataframe thead th {\n",
       "        text-align: right;\n",
       "    }\n",
       "</style>\n",
       "<table border=\"1\" class=\"dataframe\">\n",
       "  <thead>\n",
       "    <tr style=\"text-align: right;\">\n",
       "      <th></th>\n",
       "      <th>Name</th>\n",
       "      <th>sales</th>\n",
       "      <th>Year</th>\n",
       "    </tr>\n",
       "  </thead>\n",
       "  <tbody>\n",
       "    <tr>\n",
       "      <th>28</th>\n",
       "      <td>Kamias</td>\n",
       "      <td>2726.095238</td>\n",
       "      <td>2022</td>\n",
       "    </tr>\n",
       "    <tr>\n",
       "      <th>29</th>\n",
       "      <td>Kalamasi</td>\n",
       "      <td>3782.750952</td>\n",
       "      <td>2022</td>\n",
       "    </tr>\n",
       "    <tr>\n",
       "      <th>30</th>\n",
       "      <td>Papaya</td>\n",
       "      <td>1903.300000</td>\n",
       "      <td>2022</td>\n",
       "    </tr>\n",
       "    <tr>\n",
       "      <th>31</th>\n",
       "      <td>Tundan</td>\n",
       "      <td>2640.622381</td>\n",
       "      <td>2022</td>\n",
       "    </tr>\n",
       "    <tr>\n",
       "      <th>32</th>\n",
       "      <td>Lakatan</td>\n",
       "      <td>7645.465714</td>\n",
       "      <td>2022</td>\n",
       "    </tr>\n",
       "    <tr>\n",
       "      <th>33</th>\n",
       "      <td>Rambutan</td>\n",
       "      <td>3392.500000</td>\n",
       "      <td>2022</td>\n",
       "    </tr>\n",
       "    <tr>\n",
       "      <th>34</th>\n",
       "      <td>Suha</td>\n",
       "      <td>2239.878333</td>\n",
       "      <td>2022</td>\n",
       "    </tr>\n",
       "    <tr>\n",
       "      <th>35</th>\n",
       "      <td>Atis</td>\n",
       "      <td>3474.200952</td>\n",
       "      <td>2022</td>\n",
       "    </tr>\n",
       "    <tr>\n",
       "      <th>36</th>\n",
       "      <td>Guyabano</td>\n",
       "      <td>2726.095238</td>\n",
       "      <td>2022</td>\n",
       "    </tr>\n",
       "    <tr>\n",
       "      <th>37</th>\n",
       "      <td>Lemon</td>\n",
       "      <td>1417.933333</td>\n",
       "      <td>2022</td>\n",
       "    </tr>\n",
       "    <tr>\n",
       "      <th>38</th>\n",
       "      <td>Dalanghita</td>\n",
       "      <td>2239.878333</td>\n",
       "      <td>2022</td>\n",
       "    </tr>\n",
       "    <tr>\n",
       "      <th>39</th>\n",
       "      <td>Langka</td>\n",
       "      <td>2726.095238</td>\n",
       "      <td>2022</td>\n",
       "    </tr>\n",
       "    <tr>\n",
       "      <th>40</th>\n",
       "      <td>Duhat</td>\n",
       "      <td>2682.332143</td>\n",
       "      <td>2022</td>\n",
       "    </tr>\n",
       "    <tr>\n",
       "      <th>41</th>\n",
       "      <td>Avocado</td>\n",
       "      <td>2239.878333</td>\n",
       "      <td>2022</td>\n",
       "    </tr>\n",
       "    <tr>\n",
       "      <th>42</th>\n",
       "      <td>Sinegwelas</td>\n",
       "      <td>3078.083333</td>\n",
       "      <td>2022</td>\n",
       "    </tr>\n",
       "    <tr>\n",
       "      <th>43</th>\n",
       "      <td>Chico</td>\n",
       "      <td>1417.933333</td>\n",
       "      <td>2022</td>\n",
       "    </tr>\n",
       "    <tr>\n",
       "      <th>44</th>\n",
       "      <td>Guava</td>\n",
       "      <td>2239.878333</td>\n",
       "      <td>2022</td>\n",
       "    </tr>\n",
       "    <tr>\n",
       "      <th>45</th>\n",
       "      <td>Lanzones</td>\n",
       "      <td>3392.500000</td>\n",
       "      <td>2022</td>\n",
       "    </tr>\n",
       "    <tr>\n",
       "      <th>46</th>\n",
       "      <td>Pot1</td>\n",
       "      <td>3086.000000</td>\n",
       "      <td>2022</td>\n",
       "    </tr>\n",
       "    <tr>\n",
       "      <th>47</th>\n",
       "      <td>Pot2</td>\n",
       "      <td>6704.133333</td>\n",
       "      <td>2022</td>\n",
       "    </tr>\n",
       "    <tr>\n",
       "      <th>48</th>\n",
       "      <td>pot 3</td>\n",
       "      <td>4399.300000</td>\n",
       "      <td>2022</td>\n",
       "    </tr>\n",
       "    <tr>\n",
       "      <th>49</th>\n",
       "      <td>Pot Design</td>\n",
       "      <td>4563.700000</td>\n",
       "      <td>2022</td>\n",
       "    </tr>\n",
       "    <tr>\n",
       "      <th>50</th>\n",
       "      <td>Yellow Bell</td>\n",
       "      <td>2397.600000</td>\n",
       "      <td>2022</td>\n",
       "    </tr>\n",
       "    <tr>\n",
       "      <th>51</th>\n",
       "      <td>Milendres White</td>\n",
       "      <td>2177.400000</td>\n",
       "      <td>2022</td>\n",
       "    </tr>\n",
       "    <tr>\n",
       "      <th>52</th>\n",
       "      <td>Kabalyero</td>\n",
       "      <td>2790.400000</td>\n",
       "      <td>2022</td>\n",
       "    </tr>\n",
       "    <tr>\n",
       "      <th>53</th>\n",
       "      <td>Bridal Boket</td>\n",
       "      <td>2229.733333</td>\n",
       "      <td>2022</td>\n",
       "    </tr>\n",
       "    <tr>\n",
       "      <th>54</th>\n",
       "      <td>Sampaguita</td>\n",
       "      <td>1693.000000</td>\n",
       "      <td>2022</td>\n",
       "    </tr>\n",
       "    <tr>\n",
       "      <th>55</th>\n",
       "      <td>Soil</td>\n",
       "      <td>2590.500000</td>\n",
       "      <td>2022</td>\n",
       "    </tr>\n",
       "    <tr>\n",
       "      <th>56</th>\n",
       "      <td>Manga Kalabaw</td>\n",
       "      <td>7645.465714</td>\n",
       "      <td>2022</td>\n",
       "    </tr>\n",
       "    <tr>\n",
       "      <th>57</th>\n",
       "      <td>Manga Pico</td>\n",
       "      <td>3078.083333</td>\n",
       "      <td>2022</td>\n",
       "    </tr>\n",
       "    <tr>\n",
       "      <th>58</th>\n",
       "      <td>Kamias</td>\n",
       "      <td>2726.095238</td>\n",
       "      <td>2022</td>\n",
       "    </tr>\n",
       "    <tr>\n",
       "      <th>59</th>\n",
       "      <td>Kalamasi</td>\n",
       "      <td>3782.750952</td>\n",
       "      <td>2022</td>\n",
       "    </tr>\n",
       "    <tr>\n",
       "      <th>60</th>\n",
       "      <td>Papaya</td>\n",
       "      <td>1903.300000</td>\n",
       "      <td>2022</td>\n",
       "    </tr>\n",
       "    <tr>\n",
       "      <th>61</th>\n",
       "      <td>Tundan</td>\n",
       "      <td>2640.622381</td>\n",
       "      <td>2022</td>\n",
       "    </tr>\n",
       "    <tr>\n",
       "      <th>62</th>\n",
       "      <td>Lakatan</td>\n",
       "      <td>7645.465714</td>\n",
       "      <td>2022</td>\n",
       "    </tr>\n",
       "    <tr>\n",
       "      <th>63</th>\n",
       "      <td>Rambutan</td>\n",
       "      <td>3392.500000</td>\n",
       "      <td>2022</td>\n",
       "    </tr>\n",
       "    <tr>\n",
       "      <th>64</th>\n",
       "      <td>Suha</td>\n",
       "      <td>2239.878333</td>\n",
       "      <td>2022</td>\n",
       "    </tr>\n",
       "    <tr>\n",
       "      <th>65</th>\n",
       "      <td>Atis</td>\n",
       "      <td>3474.200952</td>\n",
       "      <td>2022</td>\n",
       "    </tr>\n",
       "    <tr>\n",
       "      <th>66</th>\n",
       "      <td>Guyabano</td>\n",
       "      <td>2726.095238</td>\n",
       "      <td>2022</td>\n",
       "    </tr>\n",
       "    <tr>\n",
       "      <th>67</th>\n",
       "      <td>Lemon</td>\n",
       "      <td>1417.933333</td>\n",
       "      <td>2022</td>\n",
       "    </tr>\n",
       "    <tr>\n",
       "      <th>68</th>\n",
       "      <td>Dalanghita</td>\n",
       "      <td>2239.878333</td>\n",
       "      <td>2022</td>\n",
       "    </tr>\n",
       "    <tr>\n",
       "      <th>69</th>\n",
       "      <td>Langka</td>\n",
       "      <td>2726.095238</td>\n",
       "      <td>2022</td>\n",
       "    </tr>\n",
       "    <tr>\n",
       "      <th>70</th>\n",
       "      <td>Duhat</td>\n",
       "      <td>2682.332143</td>\n",
       "      <td>2022</td>\n",
       "    </tr>\n",
       "    <tr>\n",
       "      <th>71</th>\n",
       "      <td>Avocado</td>\n",
       "      <td>2239.878333</td>\n",
       "      <td>2022</td>\n",
       "    </tr>\n",
       "    <tr>\n",
       "      <th>72</th>\n",
       "      <td>Sinegwelas</td>\n",
       "      <td>3078.083333</td>\n",
       "      <td>2022</td>\n",
       "    </tr>\n",
       "    <tr>\n",
       "      <th>73</th>\n",
       "      <td>Chico</td>\n",
       "      <td>1417.933333</td>\n",
       "      <td>2022</td>\n",
       "    </tr>\n",
       "    <tr>\n",
       "      <th>74</th>\n",
       "      <td>Guava</td>\n",
       "      <td>2239.878333</td>\n",
       "      <td>2022</td>\n",
       "    </tr>\n",
       "    <tr>\n",
       "      <th>75</th>\n",
       "      <td>Lanzones</td>\n",
       "      <td>3392.500000</td>\n",
       "      <td>2022</td>\n",
       "    </tr>\n",
       "    <tr>\n",
       "      <th>76</th>\n",
       "      <td>Pot1</td>\n",
       "      <td>3086.000000</td>\n",
       "      <td>2022</td>\n",
       "    </tr>\n",
       "    <tr>\n",
       "      <th>77</th>\n",
       "      <td>Pot2</td>\n",
       "      <td>6704.133333</td>\n",
       "      <td>2022</td>\n",
       "    </tr>\n",
       "    <tr>\n",
       "      <th>78</th>\n",
       "      <td>pot 3</td>\n",
       "      <td>4399.300000</td>\n",
       "      <td>2022</td>\n",
       "    </tr>\n",
       "    <tr>\n",
       "      <th>79</th>\n",
       "      <td>Pot Design</td>\n",
       "      <td>4563.700000</td>\n",
       "      <td>2022</td>\n",
       "    </tr>\n",
       "    <tr>\n",
       "      <th>80</th>\n",
       "      <td>Yellow Bell</td>\n",
       "      <td>2397.600000</td>\n",
       "      <td>2022</td>\n",
       "    </tr>\n",
       "    <tr>\n",
       "      <th>81</th>\n",
       "      <td>Milendres White</td>\n",
       "      <td>2177.400000</td>\n",
       "      <td>2022</td>\n",
       "    </tr>\n",
       "    <tr>\n",
       "      <th>82</th>\n",
       "      <td>Kabalyero</td>\n",
       "      <td>2790.400000</td>\n",
       "      <td>2022</td>\n",
       "    </tr>\n",
       "    <tr>\n",
       "      <th>83</th>\n",
       "      <td>Bridal Boket</td>\n",
       "      <td>2229.733333</td>\n",
       "      <td>2022</td>\n",
       "    </tr>\n",
       "    <tr>\n",
       "      <th>84</th>\n",
       "      <td>Sampaguita</td>\n",
       "      <td>1693.000000</td>\n",
       "      <td>2022</td>\n",
       "    </tr>\n",
       "    <tr>\n",
       "      <th>85</th>\n",
       "      <td>Soil</td>\n",
       "      <td>2590.500000</td>\n",
       "      <td>2022</td>\n",
       "    </tr>\n",
       "    <tr>\n",
       "      <th>86</th>\n",
       "      <td>Manga Kalabaw</td>\n",
       "      <td>7645.465714</td>\n",
       "      <td>2022</td>\n",
       "    </tr>\n",
       "    <tr>\n",
       "      <th>87</th>\n",
       "      <td>Manga Pico</td>\n",
       "      <td>3078.083333</td>\n",
       "      <td>2022</td>\n",
       "    </tr>\n",
       "  </tbody>\n",
       "</table>\n",
       "</div>"
      ],
      "text/plain": [
       "               Name        sales  Year\n",
       "28           Kamias  2726.095238  2022\n",
       "29         Kalamasi  3782.750952  2022\n",
       "30           Papaya  1903.300000  2022\n",
       "31           Tundan  2640.622381  2022\n",
       "32          Lakatan  7645.465714  2022\n",
       "33         Rambutan  3392.500000  2022\n",
       "34             Suha  2239.878333  2022\n",
       "35             Atis  3474.200952  2022\n",
       "36         Guyabano  2726.095238  2022\n",
       "37            Lemon  1417.933333  2022\n",
       "38       Dalanghita  2239.878333  2022\n",
       "39           Langka  2726.095238  2022\n",
       "40            Duhat  2682.332143  2022\n",
       "41          Avocado  2239.878333  2022\n",
       "42       Sinegwelas  3078.083333  2022\n",
       "43            Chico  1417.933333  2022\n",
       "44            Guava  2239.878333  2022\n",
       "45         Lanzones  3392.500000  2022\n",
       "46             Pot1  3086.000000  2022\n",
       "47             Pot2  6704.133333  2022\n",
       "48            pot 3  4399.300000  2022\n",
       "49       Pot Design  4563.700000  2022\n",
       "50      Yellow Bell  2397.600000  2022\n",
       "51  Milendres White  2177.400000  2022\n",
       "52        Kabalyero  2790.400000  2022\n",
       "53     Bridal Boket  2229.733333  2022\n",
       "54       Sampaguita  1693.000000  2022\n",
       "55             Soil  2590.500000  2022\n",
       "56    Manga Kalabaw  7645.465714  2022\n",
       "57       Manga Pico  3078.083333  2022\n",
       "58           Kamias  2726.095238  2022\n",
       "59         Kalamasi  3782.750952  2022\n",
       "60           Papaya  1903.300000  2022\n",
       "61           Tundan  2640.622381  2022\n",
       "62          Lakatan  7645.465714  2022\n",
       "63         Rambutan  3392.500000  2022\n",
       "64             Suha  2239.878333  2022\n",
       "65             Atis  3474.200952  2022\n",
       "66         Guyabano  2726.095238  2022\n",
       "67            Lemon  1417.933333  2022\n",
       "68       Dalanghita  2239.878333  2022\n",
       "69           Langka  2726.095238  2022\n",
       "70            Duhat  2682.332143  2022\n",
       "71          Avocado  2239.878333  2022\n",
       "72       Sinegwelas  3078.083333  2022\n",
       "73            Chico  1417.933333  2022\n",
       "74            Guava  2239.878333  2022\n",
       "75         Lanzones  3392.500000  2022\n",
       "76             Pot1  3086.000000  2022\n",
       "77             Pot2  6704.133333  2022\n",
       "78            pot 3  4399.300000  2022\n",
       "79       Pot Design  4563.700000  2022\n",
       "80      Yellow Bell  2397.600000  2022\n",
       "81  Milendres White  2177.400000  2022\n",
       "82        Kabalyero  2790.400000  2022\n",
       "83     Bridal Boket  2229.733333  2022\n",
       "84       Sampaguita  1693.000000  2022\n",
       "85             Soil  2590.500000  2022\n",
       "86    Manga Kalabaw  7645.465714  2022\n",
       "87       Manga Pico  3078.083333  2022"
      ]
     },
     "execution_count": 30,
     "metadata": {},
     "output_type": "execute_result"
    }
   ],
   "source": [
    "mission = pd.DataFrame()\n",
    "mission['Name'] = test[\"Name\"]\n",
    "mission['sales'] = pred\n",
    "mission['Year'] = 2022\n",
    "pd.set_option('display.max_rows', df.shape[0]+1)\n",
    "mission\n"
   ]
  },
  {
   "cell_type": "markdown",
   "id": "52e94ab2",
   "metadata": {
    "extensions": {
     "jupyter_dashboards": {
      "version": 1,
      "views": {
       "grid_default": {},
       "report_default": {}
      }
     }
    }
   },
   "source": [
    "# Quarterly Prediction"
   ]
  },
  {
   "cell_type": "code",
   "execution_count": 31,
   "id": "00a05b87",
   "metadata": {
    "extensions": {
     "jupyter_dashboards": {
      "version": 1,
      "views": {
       "grid_default": {},
       "report_default": {}
      }
     }
    }
   },
   "outputs": [
    {
     "data": {
      "text/html": [
       "<div>\n",
       "<style scoped>\n",
       "    .dataframe tbody tr th:only-of-type {\n",
       "        vertical-align: middle;\n",
       "    }\n",
       "\n",
       "    .dataframe tbody tr th {\n",
       "        vertical-align: top;\n",
       "    }\n",
       "\n",
       "    .dataframe thead th {\n",
       "        text-align: right;\n",
       "    }\n",
       "</style>\n",
       "<table border=\"1\" class=\"dataframe\">\n",
       "  <thead>\n",
       "    <tr style=\"text-align: right;\">\n",
       "      <th></th>\n",
       "      <th>Name</th>\n",
       "      <th>sales</th>\n",
       "      <th>Quarterly</th>\n",
       "    </tr>\n",
       "  </thead>\n",
       "  <tbody>\n",
       "    <tr>\n",
       "      <th>28</th>\n",
       "      <td>Kamias</td>\n",
       "      <td>227.174603</td>\n",
       "      <td>3</td>\n",
       "    </tr>\n",
       "    <tr>\n",
       "      <th>29</th>\n",
       "      <td>Kalamasi</td>\n",
       "      <td>315.229246</td>\n",
       "      <td>3</td>\n",
       "    </tr>\n",
       "    <tr>\n",
       "      <th>30</th>\n",
       "      <td>Papaya</td>\n",
       "      <td>158.608333</td>\n",
       "      <td>3</td>\n",
       "    </tr>\n",
       "    <tr>\n",
       "      <th>31</th>\n",
       "      <td>Tundan</td>\n",
       "      <td>220.051865</td>\n",
       "      <td>3</td>\n",
       "    </tr>\n",
       "    <tr>\n",
       "      <th>32</th>\n",
       "      <td>Lakatan</td>\n",
       "      <td>637.122143</td>\n",
       "      <td>3</td>\n",
       "    </tr>\n",
       "    <tr>\n",
       "      <th>33</th>\n",
       "      <td>Rambutan</td>\n",
       "      <td>282.708333</td>\n",
       "      <td>3</td>\n",
       "    </tr>\n",
       "    <tr>\n",
       "      <th>34</th>\n",
       "      <td>Suha</td>\n",
       "      <td>186.656528</td>\n",
       "      <td>3</td>\n",
       "    </tr>\n",
       "    <tr>\n",
       "      <th>35</th>\n",
       "      <td>Atis</td>\n",
       "      <td>289.516746</td>\n",
       "      <td>3</td>\n",
       "    </tr>\n",
       "    <tr>\n",
       "      <th>36</th>\n",
       "      <td>Guyabano</td>\n",
       "      <td>227.174603</td>\n",
       "      <td>3</td>\n",
       "    </tr>\n",
       "    <tr>\n",
       "      <th>37</th>\n",
       "      <td>Lemon</td>\n",
       "      <td>118.161111</td>\n",
       "      <td>3</td>\n",
       "    </tr>\n",
       "    <tr>\n",
       "      <th>38</th>\n",
       "      <td>Dalanghita</td>\n",
       "      <td>186.656528</td>\n",
       "      <td>3</td>\n",
       "    </tr>\n",
       "    <tr>\n",
       "      <th>39</th>\n",
       "      <td>Langka</td>\n",
       "      <td>227.174603</td>\n",
       "      <td>3</td>\n",
       "    </tr>\n",
       "    <tr>\n",
       "      <th>40</th>\n",
       "      <td>Duhat</td>\n",
       "      <td>223.527679</td>\n",
       "      <td>3</td>\n",
       "    </tr>\n",
       "    <tr>\n",
       "      <th>41</th>\n",
       "      <td>Avocado</td>\n",
       "      <td>186.656528</td>\n",
       "      <td>3</td>\n",
       "    </tr>\n",
       "    <tr>\n",
       "      <th>42</th>\n",
       "      <td>Sinegwelas</td>\n",
       "      <td>256.506944</td>\n",
       "      <td>3</td>\n",
       "    </tr>\n",
       "    <tr>\n",
       "      <th>43</th>\n",
       "      <td>Chico</td>\n",
       "      <td>118.161111</td>\n",
       "      <td>3</td>\n",
       "    </tr>\n",
       "    <tr>\n",
       "      <th>44</th>\n",
       "      <td>Guava</td>\n",
       "      <td>186.656528</td>\n",
       "      <td>3</td>\n",
       "    </tr>\n",
       "    <tr>\n",
       "      <th>45</th>\n",
       "      <td>Lanzones</td>\n",
       "      <td>282.708333</td>\n",
       "      <td>3</td>\n",
       "    </tr>\n",
       "    <tr>\n",
       "      <th>46</th>\n",
       "      <td>Pot1</td>\n",
       "      <td>257.166667</td>\n",
       "      <td>3</td>\n",
       "    </tr>\n",
       "    <tr>\n",
       "      <th>47</th>\n",
       "      <td>Pot2</td>\n",
       "      <td>558.677778</td>\n",
       "      <td>3</td>\n",
       "    </tr>\n",
       "    <tr>\n",
       "      <th>48</th>\n",
       "      <td>pot 3</td>\n",
       "      <td>366.608333</td>\n",
       "      <td>3</td>\n",
       "    </tr>\n",
       "    <tr>\n",
       "      <th>49</th>\n",
       "      <td>Pot Design</td>\n",
       "      <td>380.308333</td>\n",
       "      <td>3</td>\n",
       "    </tr>\n",
       "    <tr>\n",
       "      <th>50</th>\n",
       "      <td>Yellow Bell</td>\n",
       "      <td>199.800000</td>\n",
       "      <td>3</td>\n",
       "    </tr>\n",
       "    <tr>\n",
       "      <th>51</th>\n",
       "      <td>Milendres White</td>\n",
       "      <td>181.450000</td>\n",
       "      <td>3</td>\n",
       "    </tr>\n",
       "    <tr>\n",
       "      <th>52</th>\n",
       "      <td>Kabalyero</td>\n",
       "      <td>232.533333</td>\n",
       "      <td>3</td>\n",
       "    </tr>\n",
       "    <tr>\n",
       "      <th>53</th>\n",
       "      <td>Bridal Boket</td>\n",
       "      <td>185.811111</td>\n",
       "      <td>3</td>\n",
       "    </tr>\n",
       "    <tr>\n",
       "      <th>54</th>\n",
       "      <td>Sampaguita</td>\n",
       "      <td>141.083333</td>\n",
       "      <td>3</td>\n",
       "    </tr>\n",
       "    <tr>\n",
       "      <th>55</th>\n",
       "      <td>Soil</td>\n",
       "      <td>215.875000</td>\n",
       "      <td>3</td>\n",
       "    </tr>\n",
       "    <tr>\n",
       "      <th>56</th>\n",
       "      <td>Manga Kalabaw</td>\n",
       "      <td>637.122143</td>\n",
       "      <td>3</td>\n",
       "    </tr>\n",
       "    <tr>\n",
       "      <th>57</th>\n",
       "      <td>Manga Pico</td>\n",
       "      <td>256.506944</td>\n",
       "      <td>3</td>\n",
       "    </tr>\n",
       "    <tr>\n",
       "      <th>58</th>\n",
       "      <td>Kamias</td>\n",
       "      <td>227.174603</td>\n",
       "      <td>3</td>\n",
       "    </tr>\n",
       "    <tr>\n",
       "      <th>59</th>\n",
       "      <td>Kalamasi</td>\n",
       "      <td>315.229246</td>\n",
       "      <td>3</td>\n",
       "    </tr>\n",
       "    <tr>\n",
       "      <th>60</th>\n",
       "      <td>Papaya</td>\n",
       "      <td>158.608333</td>\n",
       "      <td>3</td>\n",
       "    </tr>\n",
       "    <tr>\n",
       "      <th>61</th>\n",
       "      <td>Tundan</td>\n",
       "      <td>220.051865</td>\n",
       "      <td>3</td>\n",
       "    </tr>\n",
       "    <tr>\n",
       "      <th>62</th>\n",
       "      <td>Lakatan</td>\n",
       "      <td>637.122143</td>\n",
       "      <td>3</td>\n",
       "    </tr>\n",
       "    <tr>\n",
       "      <th>63</th>\n",
       "      <td>Rambutan</td>\n",
       "      <td>282.708333</td>\n",
       "      <td>3</td>\n",
       "    </tr>\n",
       "    <tr>\n",
       "      <th>64</th>\n",
       "      <td>Suha</td>\n",
       "      <td>186.656528</td>\n",
       "      <td>3</td>\n",
       "    </tr>\n",
       "    <tr>\n",
       "      <th>65</th>\n",
       "      <td>Atis</td>\n",
       "      <td>289.516746</td>\n",
       "      <td>3</td>\n",
       "    </tr>\n",
       "    <tr>\n",
       "      <th>66</th>\n",
       "      <td>Guyabano</td>\n",
       "      <td>227.174603</td>\n",
       "      <td>3</td>\n",
       "    </tr>\n",
       "    <tr>\n",
       "      <th>67</th>\n",
       "      <td>Lemon</td>\n",
       "      <td>118.161111</td>\n",
       "      <td>3</td>\n",
       "    </tr>\n",
       "    <tr>\n",
       "      <th>68</th>\n",
       "      <td>Dalanghita</td>\n",
       "      <td>186.656528</td>\n",
       "      <td>3</td>\n",
       "    </tr>\n",
       "    <tr>\n",
       "      <th>69</th>\n",
       "      <td>Langka</td>\n",
       "      <td>227.174603</td>\n",
       "      <td>3</td>\n",
       "    </tr>\n",
       "    <tr>\n",
       "      <th>70</th>\n",
       "      <td>Duhat</td>\n",
       "      <td>223.527679</td>\n",
       "      <td>3</td>\n",
       "    </tr>\n",
       "    <tr>\n",
       "      <th>71</th>\n",
       "      <td>Avocado</td>\n",
       "      <td>186.656528</td>\n",
       "      <td>3</td>\n",
       "    </tr>\n",
       "    <tr>\n",
       "      <th>72</th>\n",
       "      <td>Sinegwelas</td>\n",
       "      <td>256.506944</td>\n",
       "      <td>3</td>\n",
       "    </tr>\n",
       "    <tr>\n",
       "      <th>73</th>\n",
       "      <td>Chico</td>\n",
       "      <td>118.161111</td>\n",
       "      <td>3</td>\n",
       "    </tr>\n",
       "    <tr>\n",
       "      <th>74</th>\n",
       "      <td>Guava</td>\n",
       "      <td>186.656528</td>\n",
       "      <td>3</td>\n",
       "    </tr>\n",
       "    <tr>\n",
       "      <th>75</th>\n",
       "      <td>Lanzones</td>\n",
       "      <td>282.708333</td>\n",
       "      <td>3</td>\n",
       "    </tr>\n",
       "    <tr>\n",
       "      <th>76</th>\n",
       "      <td>Pot1</td>\n",
       "      <td>257.166667</td>\n",
       "      <td>3</td>\n",
       "    </tr>\n",
       "    <tr>\n",
       "      <th>77</th>\n",
       "      <td>Pot2</td>\n",
       "      <td>558.677778</td>\n",
       "      <td>3</td>\n",
       "    </tr>\n",
       "    <tr>\n",
       "      <th>78</th>\n",
       "      <td>pot 3</td>\n",
       "      <td>366.608333</td>\n",
       "      <td>3</td>\n",
       "    </tr>\n",
       "    <tr>\n",
       "      <th>79</th>\n",
       "      <td>Pot Design</td>\n",
       "      <td>380.308333</td>\n",
       "      <td>3</td>\n",
       "    </tr>\n",
       "    <tr>\n",
       "      <th>80</th>\n",
       "      <td>Yellow Bell</td>\n",
       "      <td>199.800000</td>\n",
       "      <td>3</td>\n",
       "    </tr>\n",
       "    <tr>\n",
       "      <th>81</th>\n",
       "      <td>Milendres White</td>\n",
       "      <td>181.450000</td>\n",
       "      <td>3</td>\n",
       "    </tr>\n",
       "    <tr>\n",
       "      <th>82</th>\n",
       "      <td>Kabalyero</td>\n",
       "      <td>232.533333</td>\n",
       "      <td>3</td>\n",
       "    </tr>\n",
       "    <tr>\n",
       "      <th>83</th>\n",
       "      <td>Bridal Boket</td>\n",
       "      <td>185.811111</td>\n",
       "      <td>3</td>\n",
       "    </tr>\n",
       "    <tr>\n",
       "      <th>84</th>\n",
       "      <td>Sampaguita</td>\n",
       "      <td>141.083333</td>\n",
       "      <td>3</td>\n",
       "    </tr>\n",
       "    <tr>\n",
       "      <th>85</th>\n",
       "      <td>Soil</td>\n",
       "      <td>215.875000</td>\n",
       "      <td>3</td>\n",
       "    </tr>\n",
       "    <tr>\n",
       "      <th>86</th>\n",
       "      <td>Manga Kalabaw</td>\n",
       "      <td>637.122143</td>\n",
       "      <td>3</td>\n",
       "    </tr>\n",
       "    <tr>\n",
       "      <th>87</th>\n",
       "      <td>Manga Pico</td>\n",
       "      <td>256.506944</td>\n",
       "      <td>3</td>\n",
       "    </tr>\n",
       "  </tbody>\n",
       "</table>\n",
       "</div>"
      ],
      "text/plain": [
       "               Name       sales  Quarterly\n",
       "28           Kamias  227.174603          3\n",
       "29         Kalamasi  315.229246          3\n",
       "30           Papaya  158.608333          3\n",
       "31           Tundan  220.051865          3\n",
       "32          Lakatan  637.122143          3\n",
       "33         Rambutan  282.708333          3\n",
       "34             Suha  186.656528          3\n",
       "35             Atis  289.516746          3\n",
       "36         Guyabano  227.174603          3\n",
       "37            Lemon  118.161111          3\n",
       "38       Dalanghita  186.656528          3\n",
       "39           Langka  227.174603          3\n",
       "40            Duhat  223.527679          3\n",
       "41          Avocado  186.656528          3\n",
       "42       Sinegwelas  256.506944          3\n",
       "43            Chico  118.161111          3\n",
       "44            Guava  186.656528          3\n",
       "45         Lanzones  282.708333          3\n",
       "46             Pot1  257.166667          3\n",
       "47             Pot2  558.677778          3\n",
       "48            pot 3  366.608333          3\n",
       "49       Pot Design  380.308333          3\n",
       "50      Yellow Bell  199.800000          3\n",
       "51  Milendres White  181.450000          3\n",
       "52        Kabalyero  232.533333          3\n",
       "53     Bridal Boket  185.811111          3\n",
       "54       Sampaguita  141.083333          3\n",
       "55             Soil  215.875000          3\n",
       "56    Manga Kalabaw  637.122143          3\n",
       "57       Manga Pico  256.506944          3\n",
       "58           Kamias  227.174603          3\n",
       "59         Kalamasi  315.229246          3\n",
       "60           Papaya  158.608333          3\n",
       "61           Tundan  220.051865          3\n",
       "62          Lakatan  637.122143          3\n",
       "63         Rambutan  282.708333          3\n",
       "64             Suha  186.656528          3\n",
       "65             Atis  289.516746          3\n",
       "66         Guyabano  227.174603          3\n",
       "67            Lemon  118.161111          3\n",
       "68       Dalanghita  186.656528          3\n",
       "69           Langka  227.174603          3\n",
       "70            Duhat  223.527679          3\n",
       "71          Avocado  186.656528          3\n",
       "72       Sinegwelas  256.506944          3\n",
       "73            Chico  118.161111          3\n",
       "74            Guava  186.656528          3\n",
       "75         Lanzones  282.708333          3\n",
       "76             Pot1  257.166667          3\n",
       "77             Pot2  558.677778          3\n",
       "78            pot 3  366.608333          3\n",
       "79       Pot Design  380.308333          3\n",
       "80      Yellow Bell  199.800000          3\n",
       "81  Milendres White  181.450000          3\n",
       "82        Kabalyero  232.533333          3\n",
       "83     Bridal Boket  185.811111          3\n",
       "84       Sampaguita  141.083333          3\n",
       "85             Soil  215.875000          3\n",
       "86    Manga Kalabaw  637.122143          3\n",
       "87       Manga Pico  256.506944          3"
      ]
     },
     "execution_count": 31,
     "metadata": {},
     "output_type": "execute_result"
    }
   ],
   "source": [
    "mission = pd.DataFrame()\n",
    "mission['Name'] = test[\"Name\"]\n",
    "mission['sales'] = pred / 12\n",
    "mission['Quarterly'] = 3\n",
    "pd.set_option('display.max_rows', df.shape[0]+1)\n",
    "mission"
   ]
  },
  {
   "cell_type": "markdown",
   "id": "d098e92b",
   "metadata": {
    "extensions": {
     "jupyter_dashboards": {
      "version": 1,
      "views": {
       "grid_default": {},
       "report_default": {}
      }
     }
    }
   },
   "source": [
    "# Monthly Prediction"
   ]
  },
  {
   "cell_type": "code",
   "execution_count": 32,
   "id": "7faf1540",
   "metadata": {
    "extensions": {
     "jupyter_dashboards": {
      "version": 1,
      "views": {
       "grid_default": {},
       "report_default": {}
      }
     }
    }
   },
   "outputs": [
    {
     "data": {
      "text/html": [
       "<div>\n",
       "<style scoped>\n",
       "    .dataframe tbody tr th:only-of-type {\n",
       "        vertical-align: middle;\n",
       "    }\n",
       "\n",
       "    .dataframe tbody tr th {\n",
       "        vertical-align: top;\n",
       "    }\n",
       "\n",
       "    .dataframe thead th {\n",
       "        text-align: right;\n",
       "    }\n",
       "</style>\n",
       "<table border=\"1\" class=\"dataframe\">\n",
       "  <thead>\n",
       "    <tr style=\"text-align: right;\">\n",
       "      <th></th>\n",
       "      <th>Name</th>\n",
       "      <th>sales</th>\n",
       "      <th>monthly</th>\n",
       "    </tr>\n",
       "  </thead>\n",
       "  <tbody>\n",
       "    <tr>\n",
       "      <th>28</th>\n",
       "      <td>Kamias</td>\n",
       "      <td>75.724868</td>\n",
       "      <td>1</td>\n",
       "    </tr>\n",
       "    <tr>\n",
       "      <th>29</th>\n",
       "      <td>Kalamasi</td>\n",
       "      <td>105.076415</td>\n",
       "      <td>1</td>\n",
       "    </tr>\n",
       "    <tr>\n",
       "      <th>30</th>\n",
       "      <td>Papaya</td>\n",
       "      <td>52.869444</td>\n",
       "      <td>1</td>\n",
       "    </tr>\n",
       "    <tr>\n",
       "      <th>31</th>\n",
       "      <td>Tundan</td>\n",
       "      <td>73.350622</td>\n",
       "      <td>1</td>\n",
       "    </tr>\n",
       "    <tr>\n",
       "      <th>32</th>\n",
       "      <td>Lakatan</td>\n",
       "      <td>212.374048</td>\n",
       "      <td>1</td>\n",
       "    </tr>\n",
       "    <tr>\n",
       "      <th>33</th>\n",
       "      <td>Rambutan</td>\n",
       "      <td>94.236111</td>\n",
       "      <td>1</td>\n",
       "    </tr>\n",
       "    <tr>\n",
       "      <th>34</th>\n",
       "      <td>Suha</td>\n",
       "      <td>62.218843</td>\n",
       "      <td>1</td>\n",
       "    </tr>\n",
       "    <tr>\n",
       "      <th>35</th>\n",
       "      <td>Atis</td>\n",
       "      <td>96.505582</td>\n",
       "      <td>1</td>\n",
       "    </tr>\n",
       "    <tr>\n",
       "      <th>36</th>\n",
       "      <td>Guyabano</td>\n",
       "      <td>75.724868</td>\n",
       "      <td>1</td>\n",
       "    </tr>\n",
       "    <tr>\n",
       "      <th>37</th>\n",
       "      <td>Lemon</td>\n",
       "      <td>39.387037</td>\n",
       "      <td>1</td>\n",
       "    </tr>\n",
       "    <tr>\n",
       "      <th>38</th>\n",
       "      <td>Dalanghita</td>\n",
       "      <td>62.218843</td>\n",
       "      <td>1</td>\n",
       "    </tr>\n",
       "    <tr>\n",
       "      <th>39</th>\n",
       "      <td>Langka</td>\n",
       "      <td>75.724868</td>\n",
       "      <td>1</td>\n",
       "    </tr>\n",
       "    <tr>\n",
       "      <th>40</th>\n",
       "      <td>Duhat</td>\n",
       "      <td>74.509226</td>\n",
       "      <td>1</td>\n",
       "    </tr>\n",
       "    <tr>\n",
       "      <th>41</th>\n",
       "      <td>Avocado</td>\n",
       "      <td>62.218843</td>\n",
       "      <td>1</td>\n",
       "    </tr>\n",
       "    <tr>\n",
       "      <th>42</th>\n",
       "      <td>Sinegwelas</td>\n",
       "      <td>85.502315</td>\n",
       "      <td>1</td>\n",
       "    </tr>\n",
       "    <tr>\n",
       "      <th>43</th>\n",
       "      <td>Chico</td>\n",
       "      <td>39.387037</td>\n",
       "      <td>1</td>\n",
       "    </tr>\n",
       "    <tr>\n",
       "      <th>44</th>\n",
       "      <td>Guava</td>\n",
       "      <td>62.218843</td>\n",
       "      <td>1</td>\n",
       "    </tr>\n",
       "    <tr>\n",
       "      <th>45</th>\n",
       "      <td>Lanzones</td>\n",
       "      <td>94.236111</td>\n",
       "      <td>1</td>\n",
       "    </tr>\n",
       "    <tr>\n",
       "      <th>46</th>\n",
       "      <td>Pot1</td>\n",
       "      <td>85.722222</td>\n",
       "      <td>1</td>\n",
       "    </tr>\n",
       "    <tr>\n",
       "      <th>47</th>\n",
       "      <td>Pot2</td>\n",
       "      <td>186.225926</td>\n",
       "      <td>1</td>\n",
       "    </tr>\n",
       "    <tr>\n",
       "      <th>48</th>\n",
       "      <td>pot 3</td>\n",
       "      <td>122.202778</td>\n",
       "      <td>1</td>\n",
       "    </tr>\n",
       "    <tr>\n",
       "      <th>49</th>\n",
       "      <td>Pot Design</td>\n",
       "      <td>126.769444</td>\n",
       "      <td>1</td>\n",
       "    </tr>\n",
       "    <tr>\n",
       "      <th>50</th>\n",
       "      <td>Yellow Bell</td>\n",
       "      <td>66.600000</td>\n",
       "      <td>1</td>\n",
       "    </tr>\n",
       "    <tr>\n",
       "      <th>51</th>\n",
       "      <td>Milendres White</td>\n",
       "      <td>60.483333</td>\n",
       "      <td>1</td>\n",
       "    </tr>\n",
       "    <tr>\n",
       "      <th>52</th>\n",
       "      <td>Kabalyero</td>\n",
       "      <td>77.511111</td>\n",
       "      <td>1</td>\n",
       "    </tr>\n",
       "    <tr>\n",
       "      <th>53</th>\n",
       "      <td>Bridal Boket</td>\n",
       "      <td>61.937037</td>\n",
       "      <td>1</td>\n",
       "    </tr>\n",
       "    <tr>\n",
       "      <th>54</th>\n",
       "      <td>Sampaguita</td>\n",
       "      <td>47.027778</td>\n",
       "      <td>1</td>\n",
       "    </tr>\n",
       "    <tr>\n",
       "      <th>55</th>\n",
       "      <td>Soil</td>\n",
       "      <td>71.958333</td>\n",
       "      <td>1</td>\n",
       "    </tr>\n",
       "    <tr>\n",
       "      <th>56</th>\n",
       "      <td>Manga Kalabaw</td>\n",
       "      <td>212.374048</td>\n",
       "      <td>1</td>\n",
       "    </tr>\n",
       "    <tr>\n",
       "      <th>57</th>\n",
       "      <td>Manga Pico</td>\n",
       "      <td>85.502315</td>\n",
       "      <td>1</td>\n",
       "    </tr>\n",
       "    <tr>\n",
       "      <th>58</th>\n",
       "      <td>Kamias</td>\n",
       "      <td>75.724868</td>\n",
       "      <td>1</td>\n",
       "    </tr>\n",
       "    <tr>\n",
       "      <th>59</th>\n",
       "      <td>Kalamasi</td>\n",
       "      <td>105.076415</td>\n",
       "      <td>1</td>\n",
       "    </tr>\n",
       "    <tr>\n",
       "      <th>60</th>\n",
       "      <td>Papaya</td>\n",
       "      <td>52.869444</td>\n",
       "      <td>1</td>\n",
       "    </tr>\n",
       "    <tr>\n",
       "      <th>61</th>\n",
       "      <td>Tundan</td>\n",
       "      <td>73.350622</td>\n",
       "      <td>1</td>\n",
       "    </tr>\n",
       "    <tr>\n",
       "      <th>62</th>\n",
       "      <td>Lakatan</td>\n",
       "      <td>212.374048</td>\n",
       "      <td>1</td>\n",
       "    </tr>\n",
       "    <tr>\n",
       "      <th>63</th>\n",
       "      <td>Rambutan</td>\n",
       "      <td>94.236111</td>\n",
       "      <td>1</td>\n",
       "    </tr>\n",
       "    <tr>\n",
       "      <th>64</th>\n",
       "      <td>Suha</td>\n",
       "      <td>62.218843</td>\n",
       "      <td>1</td>\n",
       "    </tr>\n",
       "    <tr>\n",
       "      <th>65</th>\n",
       "      <td>Atis</td>\n",
       "      <td>96.505582</td>\n",
       "      <td>1</td>\n",
       "    </tr>\n",
       "    <tr>\n",
       "      <th>66</th>\n",
       "      <td>Guyabano</td>\n",
       "      <td>75.724868</td>\n",
       "      <td>1</td>\n",
       "    </tr>\n",
       "    <tr>\n",
       "      <th>67</th>\n",
       "      <td>Lemon</td>\n",
       "      <td>39.387037</td>\n",
       "      <td>1</td>\n",
       "    </tr>\n",
       "    <tr>\n",
       "      <th>68</th>\n",
       "      <td>Dalanghita</td>\n",
       "      <td>62.218843</td>\n",
       "      <td>1</td>\n",
       "    </tr>\n",
       "    <tr>\n",
       "      <th>69</th>\n",
       "      <td>Langka</td>\n",
       "      <td>75.724868</td>\n",
       "      <td>1</td>\n",
       "    </tr>\n",
       "    <tr>\n",
       "      <th>70</th>\n",
       "      <td>Duhat</td>\n",
       "      <td>74.509226</td>\n",
       "      <td>1</td>\n",
       "    </tr>\n",
       "    <tr>\n",
       "      <th>71</th>\n",
       "      <td>Avocado</td>\n",
       "      <td>62.218843</td>\n",
       "      <td>1</td>\n",
       "    </tr>\n",
       "    <tr>\n",
       "      <th>72</th>\n",
       "      <td>Sinegwelas</td>\n",
       "      <td>85.502315</td>\n",
       "      <td>1</td>\n",
       "    </tr>\n",
       "    <tr>\n",
       "      <th>73</th>\n",
       "      <td>Chico</td>\n",
       "      <td>39.387037</td>\n",
       "      <td>1</td>\n",
       "    </tr>\n",
       "    <tr>\n",
       "      <th>74</th>\n",
       "      <td>Guava</td>\n",
       "      <td>62.218843</td>\n",
       "      <td>1</td>\n",
       "    </tr>\n",
       "    <tr>\n",
       "      <th>75</th>\n",
       "      <td>Lanzones</td>\n",
       "      <td>94.236111</td>\n",
       "      <td>1</td>\n",
       "    </tr>\n",
       "    <tr>\n",
       "      <th>76</th>\n",
       "      <td>Pot1</td>\n",
       "      <td>85.722222</td>\n",
       "      <td>1</td>\n",
       "    </tr>\n",
       "    <tr>\n",
       "      <th>77</th>\n",
       "      <td>Pot2</td>\n",
       "      <td>186.225926</td>\n",
       "      <td>1</td>\n",
       "    </tr>\n",
       "    <tr>\n",
       "      <th>78</th>\n",
       "      <td>pot 3</td>\n",
       "      <td>122.202778</td>\n",
       "      <td>1</td>\n",
       "    </tr>\n",
       "    <tr>\n",
       "      <th>79</th>\n",
       "      <td>Pot Design</td>\n",
       "      <td>126.769444</td>\n",
       "      <td>1</td>\n",
       "    </tr>\n",
       "    <tr>\n",
       "      <th>80</th>\n",
       "      <td>Yellow Bell</td>\n",
       "      <td>66.600000</td>\n",
       "      <td>1</td>\n",
       "    </tr>\n",
       "    <tr>\n",
       "      <th>81</th>\n",
       "      <td>Milendres White</td>\n",
       "      <td>60.483333</td>\n",
       "      <td>1</td>\n",
       "    </tr>\n",
       "    <tr>\n",
       "      <th>82</th>\n",
       "      <td>Kabalyero</td>\n",
       "      <td>77.511111</td>\n",
       "      <td>1</td>\n",
       "    </tr>\n",
       "    <tr>\n",
       "      <th>83</th>\n",
       "      <td>Bridal Boket</td>\n",
       "      <td>61.937037</td>\n",
       "      <td>1</td>\n",
       "    </tr>\n",
       "    <tr>\n",
       "      <th>84</th>\n",
       "      <td>Sampaguita</td>\n",
       "      <td>47.027778</td>\n",
       "      <td>1</td>\n",
       "    </tr>\n",
       "    <tr>\n",
       "      <th>85</th>\n",
       "      <td>Soil</td>\n",
       "      <td>71.958333</td>\n",
       "      <td>1</td>\n",
       "    </tr>\n",
       "    <tr>\n",
       "      <th>86</th>\n",
       "      <td>Manga Kalabaw</td>\n",
       "      <td>212.374048</td>\n",
       "      <td>1</td>\n",
       "    </tr>\n",
       "    <tr>\n",
       "      <th>87</th>\n",
       "      <td>Manga Pico</td>\n",
       "      <td>85.502315</td>\n",
       "      <td>1</td>\n",
       "    </tr>\n",
       "  </tbody>\n",
       "</table>\n",
       "</div>"
      ],
      "text/plain": [
       "               Name       sales  monthly\n",
       "28           Kamias   75.724868        1\n",
       "29         Kalamasi  105.076415        1\n",
       "30           Papaya   52.869444        1\n",
       "31           Tundan   73.350622        1\n",
       "32          Lakatan  212.374048        1\n",
       "33         Rambutan   94.236111        1\n",
       "34             Suha   62.218843        1\n",
       "35             Atis   96.505582        1\n",
       "36         Guyabano   75.724868        1\n",
       "37            Lemon   39.387037        1\n",
       "38       Dalanghita   62.218843        1\n",
       "39           Langka   75.724868        1\n",
       "40            Duhat   74.509226        1\n",
       "41          Avocado   62.218843        1\n",
       "42       Sinegwelas   85.502315        1\n",
       "43            Chico   39.387037        1\n",
       "44            Guava   62.218843        1\n",
       "45         Lanzones   94.236111        1\n",
       "46             Pot1   85.722222        1\n",
       "47             Pot2  186.225926        1\n",
       "48            pot 3  122.202778        1\n",
       "49       Pot Design  126.769444        1\n",
       "50      Yellow Bell   66.600000        1\n",
       "51  Milendres White   60.483333        1\n",
       "52        Kabalyero   77.511111        1\n",
       "53     Bridal Boket   61.937037        1\n",
       "54       Sampaguita   47.027778        1\n",
       "55             Soil   71.958333        1\n",
       "56    Manga Kalabaw  212.374048        1\n",
       "57       Manga Pico   85.502315        1\n",
       "58           Kamias   75.724868        1\n",
       "59         Kalamasi  105.076415        1\n",
       "60           Papaya   52.869444        1\n",
       "61           Tundan   73.350622        1\n",
       "62          Lakatan  212.374048        1\n",
       "63         Rambutan   94.236111        1\n",
       "64             Suha   62.218843        1\n",
       "65             Atis   96.505582        1\n",
       "66         Guyabano   75.724868        1\n",
       "67            Lemon   39.387037        1\n",
       "68       Dalanghita   62.218843        1\n",
       "69           Langka   75.724868        1\n",
       "70            Duhat   74.509226        1\n",
       "71          Avocado   62.218843        1\n",
       "72       Sinegwelas   85.502315        1\n",
       "73            Chico   39.387037        1\n",
       "74            Guava   62.218843        1\n",
       "75         Lanzones   94.236111        1\n",
       "76             Pot1   85.722222        1\n",
       "77             Pot2  186.225926        1\n",
       "78            pot 3  122.202778        1\n",
       "79       Pot Design  126.769444        1\n",
       "80      Yellow Bell   66.600000        1\n",
       "81  Milendres White   60.483333        1\n",
       "82        Kabalyero   77.511111        1\n",
       "83     Bridal Boket   61.937037        1\n",
       "84       Sampaguita   47.027778        1\n",
       "85             Soil   71.958333        1\n",
       "86    Manga Kalabaw  212.374048        1\n",
       "87       Manga Pico   85.502315        1"
      ]
     },
     "execution_count": 32,
     "metadata": {},
     "output_type": "execute_result"
    }
   ],
   "source": [
    "mission = pd.DataFrame()\n",
    "mission['Name'] = test[\"Name\"]\n",
    "mission['sales'] = pred / 36\n",
    "mission['monthly'] = 1\n",
    "pd.set_option('display.max_rows', df.shape[0]+1)\n",
    "mission"
   ]
  }
 ],
 "metadata": {
  "extensions": {
   "jupyter_dashboards": {
    "activeView": "grid_default",
    "version": 1,
    "views": {
     "grid_default": {
      "cellMargin": 10,
      "defaultCellHeight": 20,
      "maxColumns": 12,
      "name": "grid",
      "type": "grid"
     },
     "report_default": {
      "name": "report",
      "type": "report"
     }
    }
   }
  },
  "kernelspec": {
   "display_name": "tri",
   "language": "python",
   "name": "tri"
  },
  "language_info": {
   "codemirror_mode": {
    "name": "ipython",
    "version": 3
   },
   "file_extension": ".py",
   "mimetype": "text/x-python",
   "name": "python",
   "nbconvert_exporter": "python",
   "pygments_lexer": "ipython3",
   "version": "3.11.4"
  }
 },
 "nbformat": 4,
 "nbformat_minor": 5
}
