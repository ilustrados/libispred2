{
 "cells": [
  {
   "cell_type": "code",
   "execution_count": 1,
   "id": "3c2f831e",
   "metadata": {},
   "outputs": [
    {
     "data": {
      "application/javascript": [
       "Jupyter.notebook.get_cell(0).element.hide()\n",
       "Jupyter.notebook.get_cell(1).element.hide()\n",
       "Jupyter.notebook.get_cell(25).element.hide()\n",
       "Jupyter.notebook.get_cell(26).element.hide()\n"
      ],
      "text/plain": [
       "<IPython.core.display.Javascript object>"
      ]
     },
     "metadata": {},
     "output_type": "display_data"
    }
   ],
   "source": [
    "%%js\n",
    "Jupyter.notebook.get_cell(0).element.hide()\n",
    "Jupyter.notebook.get_cell(1).element.hide()\n",
    "Jupyter.notebook.get_cell(25).element.hide()\n",
    "Jupyter.notebook.get_cell(26).element.hide()"
   ]
  },
  {
   "cell_type": "code",
   "execution_count": 2,
   "id": "028cdec3",
   "metadata": {},
   "outputs": [],
   "source": [
    "\n",
    "import pandas as pd\n"
   ]
  },
  {
   "cell_type": "markdown",
   "id": "b12fad53",
   "metadata": {
    "extensions": {
     "jupyter_dashboards": {
      "version": 1,
      "views": {
       "grid_default": {},
       "report_default": {}
      }
     }
    }
   },
   "source": [
    "# Annual Prediction "
   ]
  },
  {
   "cell_type": "code",
   "execution_count": 3,
   "id": "55b49fea",
   "metadata": {
    "extensions": {
     "jupyter_dashboards": {
      "version": 1,
      "views": {
       "grid_default": {},
       "report_default": {}
      }
     }
    }
   },
   "outputs": [],
   "source": [
    "train2 = pd.read_csv(\"Training 2020.csv\")"
   ]
  },
  {
   "cell_type": "code",
   "execution_count": 4,
   "id": "0648f787",
   "metadata": {
    "extensions": {
     "jupyter_dashboards": {
      "version": 1,
      "views": {
       "grid_default": {},
       "report_default": {
        "hidden": true
       }
      }
     }
    }
   },
   "outputs": [],
   "source": [
    "train1 = pd.read_csv(\"Training 2021.csv\")"
   ]
  },
  {
   "cell_type": "code",
   "execution_count": 5,
   "id": "80b7af01",
   "metadata": {
    "extensions": {
     "jupyter_dashboards": {
      "version": 1,
      "views": {
       "grid_default": {},
       "report_default": {
        "hidden": true
       }
      }
     }
    }
   },
   "outputs": [],
   "source": [
    "test = pd.read_csv(\"Testpred 2022.csv\")"
   ]
  },
  {
   "cell_type": "code",
   "execution_count": 6,
   "id": "4bf1131f",
   "metadata": {
    "extensions": {
     "jupyter_dashboards": {
      "version": 1,
      "views": {
       "grid_default": {},
       "report_default": {
        "hidden": true
       }
      }
     }
    }
   },
   "outputs": [],
   "source": [
    "# returns the number of items in an object\n",
    "train2_len = len(train2)\n",
    "train1_len = len(train1)\n",
    "test_len = len(test)"
   ]
  },
  {
   "cell_type": "code",
   "execution_count": 7,
   "id": "ba8d7933",
   "metadata": {
    "extensions": {
     "jupyter_dashboards": {
      "version": 1,
      "views": {
       "grid_default": {},
       "report_default": {
        "hidden": true
       }
      }
     }
    }
   },
   "outputs": [
    {
     "data": {
      "text/html": [
       "<div>\n",
       "<style scoped>\n",
       "    .dataframe tbody tr th:only-of-type {\n",
       "        vertical-align: middle;\n",
       "    }\n",
       "\n",
       "    .dataframe tbody tr th {\n",
       "        vertical-align: top;\n",
       "    }\n",
       "\n",
       "    .dataframe thead th {\n",
       "        text-align: right;\n",
       "    }\n",
       "</style>\n",
       "<table border=\"1\" class=\"dataframe\">\n",
       "  <thead>\n",
       "    <tr style=\"text-align: right;\">\n",
       "      <th></th>\n",
       "      <th>Name</th>\n",
       "      <th>Size</th>\n",
       "      <th>Cost</th>\n",
       "      <th>Category</th>\n",
       "      <th>Sales</th>\n",
       "      <th>Year</th>\n",
       "    </tr>\n",
       "  </thead>\n",
       "  <tbody>\n",
       "    <tr>\n",
       "      <th>0</th>\n",
       "      <td>Kamias</td>\n",
       "      <td>Medium</td>\n",
       "      <td>100</td>\n",
       "      <td>Tree</td>\n",
       "      <td>3400.0</td>\n",
       "      <td>2020</td>\n",
       "    </tr>\n",
       "    <tr>\n",
       "      <th>1</th>\n",
       "      <td>Kalamasi</td>\n",
       "      <td>Medium</td>\n",
       "      <td>120</td>\n",
       "      <td>Tree</td>\n",
       "      <td>4080.0</td>\n",
       "      <td>2020</td>\n",
       "    </tr>\n",
       "    <tr>\n",
       "      <th>2</th>\n",
       "      <td>Papaya</td>\n",
       "      <td>Small</td>\n",
       "      <td>50</td>\n",
       "      <td>Tree</td>\n",
       "      <td>1700.0</td>\n",
       "      <td>2020</td>\n",
       "    </tr>\n",
       "    <tr>\n",
       "      <th>3</th>\n",
       "      <td>Tundan</td>\n",
       "      <td>Small</td>\n",
       "      <td>80</td>\n",
       "      <td>Tree</td>\n",
       "      <td>3200.0</td>\n",
       "      <td>2020</td>\n",
       "    </tr>\n",
       "    <tr>\n",
       "      <th>4</th>\n",
       "      <td>Lakatan</td>\n",
       "      <td>Small</td>\n",
       "      <td>150</td>\n",
       "      <td>Tree</td>\n",
       "      <td>10500.0</td>\n",
       "      <td>2020</td>\n",
       "    </tr>\n",
       "    <tr>\n",
       "      <th>5</th>\n",
       "      <td>Rambutan</td>\n",
       "      <td>Medium</td>\n",
       "      <td>250</td>\n",
       "      <td>Tree</td>\n",
       "      <td>5000.0</td>\n",
       "      <td>2020</td>\n",
       "    </tr>\n",
       "    <tr>\n",
       "      <th>6</th>\n",
       "      <td>Suha</td>\n",
       "      <td>Small</td>\n",
       "      <td>130</td>\n",
       "      <td>Tree</td>\n",
       "      <td>1950.0</td>\n",
       "      <td>2020</td>\n",
       "    </tr>\n",
       "    <tr>\n",
       "      <th>7</th>\n",
       "      <td>Atis</td>\n",
       "      <td>Medium</td>\n",
       "      <td>130</td>\n",
       "      <td>Tree</td>\n",
       "      <td>3770.0</td>\n",
       "      <td>2020</td>\n",
       "    </tr>\n",
       "    <tr>\n",
       "      <th>8</th>\n",
       "      <td>Guyabano</td>\n",
       "      <td>Medium</td>\n",
       "      <td>100</td>\n",
       "      <td>Tree</td>\n",
       "      <td>2200.0</td>\n",
       "      <td>2020</td>\n",
       "    </tr>\n",
       "    <tr>\n",
       "      <th>9</th>\n",
       "      <td>Kamias</td>\n",
       "      <td>Medium</td>\n",
       "      <td>100</td>\n",
       "      <td>Tree</td>\n",
       "      <td>3700.0</td>\n",
       "      <td>2021</td>\n",
       "    </tr>\n",
       "    <tr>\n",
       "      <th>10</th>\n",
       "      <td>Kalamasi</td>\n",
       "      <td>Medium</td>\n",
       "      <td>120</td>\n",
       "      <td>Tree</td>\n",
       "      <td>5060.0</td>\n",
       "      <td>2021</td>\n",
       "    </tr>\n",
       "    <tr>\n",
       "      <th>11</th>\n",
       "      <td>Papaya</td>\n",
       "      <td>Small</td>\n",
       "      <td>50</td>\n",
       "      <td>Tree</td>\n",
       "      <td>2500.0</td>\n",
       "      <td>2021</td>\n",
       "    </tr>\n",
       "    <tr>\n",
       "      <th>12</th>\n",
       "      <td>Tundan</td>\n",
       "      <td>Small</td>\n",
       "      <td>80</td>\n",
       "      <td>Tree</td>\n",
       "      <td>3400.0</td>\n",
       "      <td>2021</td>\n",
       "    </tr>\n",
       "    <tr>\n",
       "      <th>13</th>\n",
       "      <td>Lakatan</td>\n",
       "      <td>Small</td>\n",
       "      <td>150</td>\n",
       "      <td>Tree</td>\n",
       "      <td>9500.0</td>\n",
       "      <td>2021</td>\n",
       "    </tr>\n",
       "    <tr>\n",
       "      <th>14</th>\n",
       "      <td>Rambutan</td>\n",
       "      <td>Medium</td>\n",
       "      <td>250</td>\n",
       "      <td>Tree</td>\n",
       "      <td>4250.0</td>\n",
       "      <td>2021</td>\n",
       "    </tr>\n",
       "    <tr>\n",
       "      <th>15</th>\n",
       "      <td>Suha</td>\n",
       "      <td>Small</td>\n",
       "      <td>130</td>\n",
       "      <td>Tree</td>\n",
       "      <td>2950.0</td>\n",
       "      <td>2021</td>\n",
       "    </tr>\n",
       "    <tr>\n",
       "      <th>16</th>\n",
       "      <td>Atis</td>\n",
       "      <td>Medium</td>\n",
       "      <td>130</td>\n",
       "      <td>Tree</td>\n",
       "      <td>3370.0</td>\n",
       "      <td>2021</td>\n",
       "    </tr>\n",
       "    <tr>\n",
       "      <th>17</th>\n",
       "      <td>Guyabano</td>\n",
       "      <td>Medium</td>\n",
       "      <td>100</td>\n",
       "      <td>Tree</td>\n",
       "      <td>2800.0</td>\n",
       "      <td>2021</td>\n",
       "    </tr>\n",
       "    <tr>\n",
       "      <th>18</th>\n",
       "      <td>Kamias</td>\n",
       "      <td>Medium</td>\n",
       "      <td>100</td>\n",
       "      <td>Tree</td>\n",
       "      <td>NaN</td>\n",
       "      <td>2022</td>\n",
       "    </tr>\n",
       "    <tr>\n",
       "      <th>19</th>\n",
       "      <td>Kalamasi</td>\n",
       "      <td>Medium</td>\n",
       "      <td>120</td>\n",
       "      <td>Tree</td>\n",
       "      <td>NaN</td>\n",
       "      <td>2022</td>\n",
       "    </tr>\n",
       "    <tr>\n",
       "      <th>20</th>\n",
       "      <td>Papaya</td>\n",
       "      <td>Small</td>\n",
       "      <td>50</td>\n",
       "      <td>Tree</td>\n",
       "      <td>NaN</td>\n",
       "      <td>2022</td>\n",
       "    </tr>\n",
       "    <tr>\n",
       "      <th>21</th>\n",
       "      <td>Tundan</td>\n",
       "      <td>Small</td>\n",
       "      <td>80</td>\n",
       "      <td>Tree</td>\n",
       "      <td>NaN</td>\n",
       "      <td>2022</td>\n",
       "    </tr>\n",
       "    <tr>\n",
       "      <th>22</th>\n",
       "      <td>Lakatan</td>\n",
       "      <td>Small</td>\n",
       "      <td>150</td>\n",
       "      <td>Tree</td>\n",
       "      <td>NaN</td>\n",
       "      <td>2022</td>\n",
       "    </tr>\n",
       "    <tr>\n",
       "      <th>23</th>\n",
       "      <td>Rambutan</td>\n",
       "      <td>Medium</td>\n",
       "      <td>250</td>\n",
       "      <td>Tree</td>\n",
       "      <td>NaN</td>\n",
       "      <td>2022</td>\n",
       "    </tr>\n",
       "    <tr>\n",
       "      <th>24</th>\n",
       "      <td>Suha</td>\n",
       "      <td>Small</td>\n",
       "      <td>130</td>\n",
       "      <td>Tree</td>\n",
       "      <td>NaN</td>\n",
       "      <td>2022</td>\n",
       "    </tr>\n",
       "    <tr>\n",
       "      <th>25</th>\n",
       "      <td>Atis</td>\n",
       "      <td>Medium</td>\n",
       "      <td>130</td>\n",
       "      <td>Tree</td>\n",
       "      <td>NaN</td>\n",
       "      <td>2022</td>\n",
       "    </tr>\n",
       "    <tr>\n",
       "      <th>26</th>\n",
       "      <td>Guyabano</td>\n",
       "      <td>Medium</td>\n",
       "      <td>100</td>\n",
       "      <td>Tree</td>\n",
       "      <td>NaN</td>\n",
       "      <td>2022</td>\n",
       "    </tr>\n",
       "  </tbody>\n",
       "</table>\n",
       "</div>"
      ],
      "text/plain": [
       "        Name    Size  Cost Category    Sales  Year\n",
       "0     Kamias  Medium   100     Tree   3400.0  2020\n",
       "1   Kalamasi  Medium   120     Tree   4080.0  2020\n",
       "2     Papaya   Small    50     Tree   1700.0  2020\n",
       "3     Tundan   Small    80     Tree   3200.0  2020\n",
       "4    Lakatan   Small   150     Tree  10500.0  2020\n",
       "5   Rambutan  Medium   250     Tree   5000.0  2020\n",
       "6       Suha   Small   130     Tree   1950.0  2020\n",
       "7       Atis  Medium   130     Tree   3770.0  2020\n",
       "8   Guyabano  Medium   100     Tree   2200.0  2020\n",
       "9     Kamias  Medium   100     Tree   3700.0  2021\n",
       "10  Kalamasi  Medium   120     Tree   5060.0  2021\n",
       "11    Papaya   Small    50     Tree   2500.0  2021\n",
       "12    Tundan   Small    80     Tree   3400.0  2021\n",
       "13   Lakatan   Small   150     Tree   9500.0  2021\n",
       "14  Rambutan  Medium   250     Tree   4250.0  2021\n",
       "15      Suha   Small   130     Tree   2950.0  2021\n",
       "16      Atis  Medium   130     Tree   3370.0  2021\n",
       "17  Guyabano  Medium   100     Tree   2800.0  2021\n",
       "18    Kamias  Medium   100     Tree      NaN  2022\n",
       "19  Kalamasi  Medium   120     Tree      NaN  2022\n",
       "20    Papaya   Small    50     Tree      NaN  2022\n",
       "21    Tundan   Small    80     Tree      NaN  2022\n",
       "22   Lakatan   Small   150     Tree      NaN  2022\n",
       "23  Rambutan  Medium   250     Tree      NaN  2022\n",
       "24      Suha   Small   130     Tree      NaN  2022\n",
       "25      Atis  Medium   130     Tree      NaN  2022\n",
       "26  Guyabano  Medium   100     Tree      NaN  2022"
      ]
     },
     "execution_count": 7,
     "metadata": {},
     "output_type": "execute_result"
    }
   ],
   "source": [
    "# concatinate the objects \n",
    "df = pd.concat([train2, train1, test], axis=0)\n",
    "pd.set_option('display.max_rows', df.shape[0]+1)\n",
    "df.reset_index(drop=True, inplace=True)\n",
    "df"
   ]
  },
  {
   "cell_type": "code",
   "execution_count": 8,
   "id": "c5490155",
   "metadata": {
    "extensions": {
     "jupyter_dashboards": {
      "version": 1,
      "views": {
       "grid_default": {},
       "report_default": {
        "hidden": true
       }
      }
     }
    }
   },
   "outputs": [],
   "source": [
    "%%capture\n",
    "print(len(train2), len(train1), len(test), len(df))"
   ]
  },
  {
   "cell_type": "code",
   "execution_count": 9,
   "id": "a7d8af6d",
   "metadata": {
    "extensions": {
     "jupyter_dashboards": {
      "version": 1,
      "views": {
       "grid_default": {},
       "report_default": {
        "hidden": true
       }
      }
     }
    }
   },
   "outputs": [],
   "source": [
    "%%capture\n",
    "# get unique values x serves as a placeholder for the value\n",
    "df.apply(lambda x: len(x.unique()))"
   ]
  },
  {
   "cell_type": "code",
   "execution_count": 10,
   "id": "4e4a46c3",
   "metadata": {
    "extensions": {
     "jupyter_dashboards": {
      "version": 1,
      "views": {
       "grid_default": {},
       "report_default": {
        "hidden": true
       }
      }
     }
    }
   },
   "outputs": [],
   "source": [
    "%%capture\n",
    "df.isnull().sum()"
   ]
  },
  {
   "cell_type": "code",
   "execution_count": 11,
   "id": "74143db3",
   "metadata": {
    "extensions": {
     "jupyter_dashboards": {
      "version": 1,
      "views": {
       "grid_default": {},
       "report_default": {
        "hidden": true
       }
      }
     }
    }
   },
   "outputs": [],
   "source": [
    "%%capture\n",
    "# combines object types\n",
    "cat_col = []\n",
    "for x in df.dtypes.index:\n",
    "    if df.dtypes[x] == 'object':\n",
    "        cat_col.append(x)\n",
    "cat_col"
   ]
  },
  {
   "cell_type": "code",
   "execution_count": 12,
   "id": "4151c7e4",
   "metadata": {
    "extensions": {
     "jupyter_dashboards": {
      "version": 1,
      "views": {
       "grid_default": {},
       "report_default": {
        "hidden": true
       }
      }
     }
    }
   },
   "outputs": [],
   "source": [
    "%%capture\n",
    "cat_col.remove('Name')\n",
    "cat_col"
   ]
  },
  {
   "cell_type": "code",
   "execution_count": 13,
   "id": "cc604805",
   "metadata": {
    "extensions": {
     "jupyter_dashboards": {
      "version": 1,
      "views": {
       "grid_default": {},
       "report_default": {
        "hidden": true
       }
      }
     }
    }
   },
   "outputs": [],
   "source": [
    "%%capture\n",
    "# counts the value in objects\n",
    "for col in cat_col:\n",
    "    print(col)\n",
    "    print(df[col].value_counts())\n",
    "    print();"
   ]
  },
  {
   "cell_type": "code",
   "execution_count": 14,
   "id": "2f1c6c1e",
   "metadata": {
    "extensions": {
     "jupyter_dashboards": {
      "version": 1,
      "views": {
       "grid_default": {},
       "report_default": {
        "hidden": true
       }
      }
     }
    }
   },
   "outputs": [],
   "source": [
    "%%capture\n",
    "# creates values and column for objects\n",
    "size_mode = df.pivot_table(values = 'Size', columns = 'Category', aggfunc=(lambda x: x.mode()[0]))\n",
    "size_mode"
   ]
  },
  {
   "cell_type": "code",
   "execution_count": 15,
   "id": "5f5582c2",
   "metadata": {
    "extensions": {
     "jupyter_dashboards": {
      "version": 1,
      "views": {
       "grid_default": {},
       "report_default": {
        "hidden": true
       }
      }
     }
    }
   },
   "outputs": [],
   "source": [
    "miss_bool = df['Size'].isnull()\n",
    "df.loc[miss_bool, 'Size'] = df.loc[miss_bool, 'Category'].apply(lambda x: size_mode[x])"
   ]
  },
  {
   "cell_type": "code",
   "execution_count": 16,
   "id": "7a4000a6",
   "metadata": {
    "extensions": {
     "jupyter_dashboards": {
      "version": 1,
      "views": {
       "grid_default": {},
       "report_default": {
        "hidden": true
       }
      }
     }
    }
   },
   "outputs": [],
   "source": [
    "%%capture\n",
    "df['Size'].isnull().sum()"
   ]
  },
  {
   "cell_type": "code",
   "execution_count": 17,
   "id": "ffcb7610",
   "metadata": {
    "extensions": {
     "jupyter_dashboards": {
      "version": 1,
      "views": {
       "grid_default": {},
       "report_default": {
        "hidden": true
       }
      }
     }
    }
   },
   "outputs": [],
   "source": [
    "df['Total_Year'] = 2022 - df['Year']"
   ]
  },
  {
   "cell_type": "code",
   "execution_count": 18,
   "id": "9d63dbd6",
   "metadata": {
    "extensions": {
     "jupyter_dashboards": {
      "version": 1,
      "views": {
       "grid_default": {},
       "report_default": {
        "hidden": true
       }
      }
     }
    }
   },
   "outputs": [],
   "source": [
    "%%capture\n",
    "df['Total_Year']"
   ]
  },
  {
   "cell_type": "code",
   "execution_count": 19,
   "id": "54c35fc7",
   "metadata": {
    "extensions": {
     "jupyter_dashboards": {
      "version": 1,
      "views": {
       "grid_default": {},
       "report_default": {
        "hidden": true
       }
      }
     }
    }
   },
   "outputs": [],
   "source": [
    "%%capture\n",
    "# creates entry for the column\n",
    "df = pd.get_dummies(df, columns=[ 'Size', 'Category'])\n",
    "df.head();"
   ]
  },
  {
   "cell_type": "code",
   "execution_count": 20,
   "id": "3869aa19",
   "metadata": {
    "extensions": {
     "jupyter_dashboards": {
      "version": 1,
      "views": {
       "grid_default": {},
       "report_default": {
        "hidden": true
       }
      }
     }
    }
   },
   "outputs": [],
   "source": [
    "%%capture\n",
    "df.tail();"
   ]
  },
  {
   "cell_type": "code",
   "execution_count": 21,
   "id": "8c6873a0",
   "metadata": {
    "extensions": {
     "jupyter_dashboards": {
      "version": 1,
      "views": {
       "grid_default": {},
       "report_default": {
        "hidden": true
       }
      }
     }
    }
   },
   "outputs": [],
   "source": [
    "%%capture\n",
    "train2 = df.iloc[:train2_len,:]\n",
    "train1 = df.iloc[train2_len:,:]\n",
    "test = df.iloc[train2_len:,:]"
   ]
  },
  {
   "cell_type": "code",
   "execution_count": 22,
   "id": "843d34d3",
   "metadata": {
    "extensions": {
     "jupyter_dashboards": {
      "version": 1,
      "views": {
       "grid_default": {},
       "report_default": {
        "hidden": true
       }
      }
     }
    }
   },
   "outputs": [],
   "source": [
    "%%capture\n",
    "test = test.drop(columns=['Sales'])\n",
    "test.head()"
   ]
  },
  {
   "cell_type": "code",
   "execution_count": 23,
   "id": "e01ffc9c",
   "metadata": {
    "extensions": {
     "jupyter_dashboards": {
      "version": 1,
      "views": {
       "grid_default": {},
       "report_default": {
        "hidden": true
       }
      }
     }
    }
   },
   "outputs": [],
   "source": [
    "%%capture\n",
    "test.tail();"
   ]
  },
  {
   "cell_type": "code",
   "execution_count": 24,
   "id": "cc64bc06",
   "metadata": {
    "extensions": {
     "jupyter_dashboards": {
      "version": 1,
      "views": {
       "grid_default": {},
       "report_default": {
        "hidden": true
       }
      }
     }
    }
   },
   "outputs": [],
   "source": [
    "# preparing for model fitting\n",
    "X = train2.drop(columns=['Year', 'Name', 'Sales'])\n",
    "y = train2['Sales']"
   ]
  },
  {
   "cell_type": "code",
   "execution_count": 25,
   "id": "acba33f3",
   "metadata": {},
   "outputs": [],
   "source": [
    "from sklearn.metrics import mean_squared_error\n",
    "def train2(model, X, y):\n",
    "    model.fit(X, y)\n",
    "    model.score(X, y)\n",
    "    "
   ]
  },
  {
   "cell_type": "code",
   "execution_count": 26,
   "id": "061762a9",
   "metadata": {
    "extensions": {
     "jupyter_dashboards": {
      "version": 1,
      "views": {
       "grid_default": {},
       "report_default": {
        "hidden": true
       }
      }
     }
    }
   },
   "outputs": [],
   "source": [
    "from sklearn.ensemble import RandomForestRegressor\n",
    "model = RandomForestRegressor()\n",
    "train2(model, X, y)\n",
    "coef = pd.Series(model.feature_importances_, X.columns).sort_values(ascending=False)"
   ]
  },
  {
   "cell_type": "code",
   "execution_count": 27,
   "id": "8afe7d97",
   "metadata": {
    "extensions": {
     "jupyter_dashboards": {
      "version": 1,
      "views": {
       "grid_default": {},
       "report_default": {
        "hidden": true
       }
      }
     }
    }
   },
   "outputs": [],
   "source": [
    "\n",
    "%%capture\n",
    "x_test = test.drop(columns=['Year', 'Name'])\n",
    "x_test.head();"
   ]
  },
  {
   "cell_type": "markdown",
   "id": "48e45583",
   "metadata": {},
   "source": [
    "# Prediction"
   ]
  },
  {
   "cell_type": "code",
   "execution_count": 28,
   "id": "b8a570eb",
   "metadata": {},
   "outputs": [],
   "source": [
    "class RandomForestRegresor:\n",
    "    def __init__(self, n_trees=10, max_depth=3, min_samples_split=2, n_feature=None):\n",
    "        self.n_trees = n_trees\n",
    "        self.max_depth = max_depth\n",
    "        self.min_samples_split = min_samples_split\n",
    "        self.n_features = n_feature\n",
    "        self.trees = []\n",
    "\n",
    "    def fit(self, X, y): \n",
    "            X_sample, y_sample = self._bootstrap_samples(X, y)\n",
    "            tree.fit(X_sample, y_sample)\n",
    "            self.trees.append(tree)\n",
    "        \n",
    "    def _bootstrap_samples(self, X, y):\n",
    "        n_samples = X.shape[0]\n",
    "        idxs = np.random.choice(n_samples, n_samples, replace=True)\n",
    "        return X[idxs], y[idxs]\n",
    "\n",
    "    def predict(self, X):\n",
    "        predictions = np.array([tree.predict(X) for tree in self.trees])\n",
    "        return predictions\n"
   ]
  },
  {
   "cell_type": "raw",
   "id": "e07ac23b",
   "metadata": {
    "extensions": {
     "jupyter_dashboards": {
      "version": 1,
      "views": {
       "grid_default": {},
       "report_default": {
        "hidden": true
       }
      }
     }
    }
   },
   "source": [
    "model = RandomForestRegresor()\n",
    "model.fit(X, y)"
   ]
  },
  {
   "cell_type": "code",
   "execution_count": 29,
   "id": "abc4b576",
   "metadata": {
    "extensions": {
     "jupyter_dashboards": {
      "version": 1,
      "views": {
       "grid_default": {},
       "report_default": {
        "hidden": true
       }
      }
     }
    },
    "scrolled": false
   },
   "outputs": [
    {
     "name": "stdout",
     "output_type": "stream",
     "text": [
      "Model Report Score Accuracy: 0.7581884220321887\n"
     ]
    }
   ],
   "source": [
    "pred = model.predict(X)\n",
    "print(\"Model Report Score Accuracy:\", model.score(X, y))"
   ]
  },
  {
   "cell_type": "code",
   "execution_count": 30,
   "id": "2f79f149",
   "metadata": {},
   "outputs": [
    {
     "data": {
      "text/plain": [
       "array([3009.4, 3949. , 2184.5, 2769.9, 7249.8, 6123.7, 2798.2, 3728. ,\n",
       "       3009.4, 3009.4, 3949. , 2184.5, 2769.9, 7249.8, 6123.7, 2798.2,\n",
       "       3728. , 3009.4])"
      ]
     },
     "execution_count": 30,
     "metadata": {},
     "output_type": "execute_result"
    }
   ],
   "source": [
    "pred = model.predict(x_test)\n",
    "pred"
   ]
  },
  {
   "cell_type": "markdown",
   "id": "73094003",
   "metadata": {
    "extensions": {
     "jupyter_dashboards": {
      "version": 1,
      "views": {
       "grid_default": {},
       "report_default": {
        "hidden": false
       }
      }
     }
    }
   },
   "source": [
    "# Annual Prediction result"
   ]
  },
  {
   "cell_type": "code",
   "execution_count": 31,
   "id": "0d994f48",
   "metadata": {
    "extensions": {
     "jupyter_dashboards": {
      "version": 1,
      "views": {
       "grid_default": {},
       "report_default": {
        "hidden": true
       }
      }
     }
    },
    "scrolled": true
   },
   "outputs": [
    {
     "data": {
      "text/html": [
       "<div>\n",
       "<style scoped>\n",
       "    .dataframe tbody tr th:only-of-type {\n",
       "        vertical-align: middle;\n",
       "    }\n",
       "\n",
       "    .dataframe tbody tr th {\n",
       "        vertical-align: top;\n",
       "    }\n",
       "\n",
       "    .dataframe thead th {\n",
       "        text-align: right;\n",
       "    }\n",
       "</style>\n",
       "<table border=\"1\" class=\"dataframe\">\n",
       "  <thead>\n",
       "    <tr style=\"text-align: right;\">\n",
       "      <th></th>\n",
       "      <th>Name</th>\n",
       "      <th>sales</th>\n",
       "      <th>Year</th>\n",
       "    </tr>\n",
       "  </thead>\n",
       "  <tbody>\n",
       "    <tr>\n",
       "      <th>9</th>\n",
       "      <td>Kamias</td>\n",
       "      <td>3009.4</td>\n",
       "      <td>2022</td>\n",
       "    </tr>\n",
       "    <tr>\n",
       "      <th>10</th>\n",
       "      <td>Kalamasi</td>\n",
       "      <td>3949.0</td>\n",
       "      <td>2022</td>\n",
       "    </tr>\n",
       "    <tr>\n",
       "      <th>11</th>\n",
       "      <td>Papaya</td>\n",
       "      <td>2184.5</td>\n",
       "      <td>2022</td>\n",
       "    </tr>\n",
       "    <tr>\n",
       "      <th>12</th>\n",
       "      <td>Tundan</td>\n",
       "      <td>2769.9</td>\n",
       "      <td>2022</td>\n",
       "    </tr>\n",
       "    <tr>\n",
       "      <th>13</th>\n",
       "      <td>Lakatan</td>\n",
       "      <td>7249.8</td>\n",
       "      <td>2022</td>\n",
       "    </tr>\n",
       "    <tr>\n",
       "      <th>14</th>\n",
       "      <td>Rambutan</td>\n",
       "      <td>6123.7</td>\n",
       "      <td>2022</td>\n",
       "    </tr>\n",
       "    <tr>\n",
       "      <th>15</th>\n",
       "      <td>Suha</td>\n",
       "      <td>2798.2</td>\n",
       "      <td>2022</td>\n",
       "    </tr>\n",
       "    <tr>\n",
       "      <th>16</th>\n",
       "      <td>Atis</td>\n",
       "      <td>3728.0</td>\n",
       "      <td>2022</td>\n",
       "    </tr>\n",
       "    <tr>\n",
       "      <th>17</th>\n",
       "      <td>Guyabano</td>\n",
       "      <td>3009.4</td>\n",
       "      <td>2022</td>\n",
       "    </tr>\n",
       "    <tr>\n",
       "      <th>18</th>\n",
       "      <td>Kamias</td>\n",
       "      <td>3009.4</td>\n",
       "      <td>2022</td>\n",
       "    </tr>\n",
       "    <tr>\n",
       "      <th>19</th>\n",
       "      <td>Kalamasi</td>\n",
       "      <td>3949.0</td>\n",
       "      <td>2022</td>\n",
       "    </tr>\n",
       "    <tr>\n",
       "      <th>20</th>\n",
       "      <td>Papaya</td>\n",
       "      <td>2184.5</td>\n",
       "      <td>2022</td>\n",
       "    </tr>\n",
       "    <tr>\n",
       "      <th>21</th>\n",
       "      <td>Tundan</td>\n",
       "      <td>2769.9</td>\n",
       "      <td>2022</td>\n",
       "    </tr>\n",
       "    <tr>\n",
       "      <th>22</th>\n",
       "      <td>Lakatan</td>\n",
       "      <td>7249.8</td>\n",
       "      <td>2022</td>\n",
       "    </tr>\n",
       "    <tr>\n",
       "      <th>23</th>\n",
       "      <td>Rambutan</td>\n",
       "      <td>6123.7</td>\n",
       "      <td>2022</td>\n",
       "    </tr>\n",
       "    <tr>\n",
       "      <th>24</th>\n",
       "      <td>Suha</td>\n",
       "      <td>2798.2</td>\n",
       "      <td>2022</td>\n",
       "    </tr>\n",
       "    <tr>\n",
       "      <th>25</th>\n",
       "      <td>Atis</td>\n",
       "      <td>3728.0</td>\n",
       "      <td>2022</td>\n",
       "    </tr>\n",
       "    <tr>\n",
       "      <th>26</th>\n",
       "      <td>Guyabano</td>\n",
       "      <td>3009.4</td>\n",
       "      <td>2022</td>\n",
       "    </tr>\n",
       "  </tbody>\n",
       "</table>\n",
       "</div>"
      ],
      "text/plain": [
       "        Name   sales  Year\n",
       "9     Kamias  3009.4  2022\n",
       "10  Kalamasi  3949.0  2022\n",
       "11    Papaya  2184.5  2022\n",
       "12    Tundan  2769.9  2022\n",
       "13   Lakatan  7249.8  2022\n",
       "14  Rambutan  6123.7  2022\n",
       "15      Suha  2798.2  2022\n",
       "16      Atis  3728.0  2022\n",
       "17  Guyabano  3009.4  2022\n",
       "18    Kamias  3009.4  2022\n",
       "19  Kalamasi  3949.0  2022\n",
       "20    Papaya  2184.5  2022\n",
       "21    Tundan  2769.9  2022\n",
       "22   Lakatan  7249.8  2022\n",
       "23  Rambutan  6123.7  2022\n",
       "24      Suha  2798.2  2022\n",
       "25      Atis  3728.0  2022\n",
       "26  Guyabano  3009.4  2022"
      ]
     },
     "execution_count": 31,
     "metadata": {},
     "output_type": "execute_result"
    }
   ],
   "source": [
    "mission = pd.DataFrame()\n",
    "mission['Name'] = test[\"Name\"]\n",
    "mission['sales'] = pred\n",
    "mission['Year'] = 2022\n",
    "pd.set_option('display.max_rows', df.shape[0]+1)\n",
    "mission\n"
   ]
  },
  {
   "cell_type": "markdown",
   "id": "d2326e9a",
   "metadata": {
    "extensions": {
     "jupyter_dashboards": {
      "version": 1,
      "views": {
       "grid_default": {},
       "report_default": {}
      }
     }
    }
   },
   "source": [
    "# Quarterly Prediction"
   ]
  },
  {
   "cell_type": "code",
   "execution_count": 32,
   "id": "f03536dd",
   "metadata": {
    "extensions": {
     "jupyter_dashboards": {
      "version": 1,
      "views": {
       "grid_default": {},
       "report_default": {}
      }
     }
    },
    "scrolled": true
   },
   "outputs": [
    {
     "data": {
      "text/html": [
       "<div>\n",
       "<style scoped>\n",
       "    .dataframe tbody tr th:only-of-type {\n",
       "        vertical-align: middle;\n",
       "    }\n",
       "\n",
       "    .dataframe tbody tr th {\n",
       "        vertical-align: top;\n",
       "    }\n",
       "\n",
       "    .dataframe thead th {\n",
       "        text-align: right;\n",
       "    }\n",
       "</style>\n",
       "<table border=\"1\" class=\"dataframe\">\n",
       "  <thead>\n",
       "    <tr style=\"text-align: right;\">\n",
       "      <th></th>\n",
       "      <th>Name</th>\n",
       "      <th>sales</th>\n",
       "      <th>Quarterly</th>\n",
       "    </tr>\n",
       "  </thead>\n",
       "  <tbody>\n",
       "    <tr>\n",
       "      <th>9</th>\n",
       "      <td>Kamias</td>\n",
       "      <td>250.783333</td>\n",
       "      <td>3</td>\n",
       "    </tr>\n",
       "    <tr>\n",
       "      <th>10</th>\n",
       "      <td>Kalamasi</td>\n",
       "      <td>329.083333</td>\n",
       "      <td>3</td>\n",
       "    </tr>\n",
       "    <tr>\n",
       "      <th>11</th>\n",
       "      <td>Papaya</td>\n",
       "      <td>182.041667</td>\n",
       "      <td>3</td>\n",
       "    </tr>\n",
       "    <tr>\n",
       "      <th>12</th>\n",
       "      <td>Tundan</td>\n",
       "      <td>230.825000</td>\n",
       "      <td>3</td>\n",
       "    </tr>\n",
       "    <tr>\n",
       "      <th>13</th>\n",
       "      <td>Lakatan</td>\n",
       "      <td>604.150000</td>\n",
       "      <td>3</td>\n",
       "    </tr>\n",
       "    <tr>\n",
       "      <th>14</th>\n",
       "      <td>Rambutan</td>\n",
       "      <td>510.308333</td>\n",
       "      <td>3</td>\n",
       "    </tr>\n",
       "    <tr>\n",
       "      <th>15</th>\n",
       "      <td>Suha</td>\n",
       "      <td>233.183333</td>\n",
       "      <td>3</td>\n",
       "    </tr>\n",
       "    <tr>\n",
       "      <th>16</th>\n",
       "      <td>Atis</td>\n",
       "      <td>310.666667</td>\n",
       "      <td>3</td>\n",
       "    </tr>\n",
       "    <tr>\n",
       "      <th>17</th>\n",
       "      <td>Guyabano</td>\n",
       "      <td>250.783333</td>\n",
       "      <td>3</td>\n",
       "    </tr>\n",
       "    <tr>\n",
       "      <th>18</th>\n",
       "      <td>Kamias</td>\n",
       "      <td>250.783333</td>\n",
       "      <td>3</td>\n",
       "    </tr>\n",
       "    <tr>\n",
       "      <th>19</th>\n",
       "      <td>Kalamasi</td>\n",
       "      <td>329.083333</td>\n",
       "      <td>3</td>\n",
       "    </tr>\n",
       "    <tr>\n",
       "      <th>20</th>\n",
       "      <td>Papaya</td>\n",
       "      <td>182.041667</td>\n",
       "      <td>3</td>\n",
       "    </tr>\n",
       "    <tr>\n",
       "      <th>21</th>\n",
       "      <td>Tundan</td>\n",
       "      <td>230.825000</td>\n",
       "      <td>3</td>\n",
       "    </tr>\n",
       "    <tr>\n",
       "      <th>22</th>\n",
       "      <td>Lakatan</td>\n",
       "      <td>604.150000</td>\n",
       "      <td>3</td>\n",
       "    </tr>\n",
       "    <tr>\n",
       "      <th>23</th>\n",
       "      <td>Rambutan</td>\n",
       "      <td>510.308333</td>\n",
       "      <td>3</td>\n",
       "    </tr>\n",
       "    <tr>\n",
       "      <th>24</th>\n",
       "      <td>Suha</td>\n",
       "      <td>233.183333</td>\n",
       "      <td>3</td>\n",
       "    </tr>\n",
       "    <tr>\n",
       "      <th>25</th>\n",
       "      <td>Atis</td>\n",
       "      <td>310.666667</td>\n",
       "      <td>3</td>\n",
       "    </tr>\n",
       "    <tr>\n",
       "      <th>26</th>\n",
       "      <td>Guyabano</td>\n",
       "      <td>250.783333</td>\n",
       "      <td>3</td>\n",
       "    </tr>\n",
       "  </tbody>\n",
       "</table>\n",
       "</div>"
      ],
      "text/plain": [
       "        Name       sales  Quarterly\n",
       "9     Kamias  250.783333          3\n",
       "10  Kalamasi  329.083333          3\n",
       "11    Papaya  182.041667          3\n",
       "12    Tundan  230.825000          3\n",
       "13   Lakatan  604.150000          3\n",
       "14  Rambutan  510.308333          3\n",
       "15      Suha  233.183333          3\n",
       "16      Atis  310.666667          3\n",
       "17  Guyabano  250.783333          3\n",
       "18    Kamias  250.783333          3\n",
       "19  Kalamasi  329.083333          3\n",
       "20    Papaya  182.041667          3\n",
       "21    Tundan  230.825000          3\n",
       "22   Lakatan  604.150000          3\n",
       "23  Rambutan  510.308333          3\n",
       "24      Suha  233.183333          3\n",
       "25      Atis  310.666667          3\n",
       "26  Guyabano  250.783333          3"
      ]
     },
     "execution_count": 32,
     "metadata": {},
     "output_type": "execute_result"
    }
   ],
   "source": [
    "mission = pd.DataFrame()\n",
    "mission['Name'] = test[\"Name\"]\n",
    "mission['sales'] = pred / 12\n",
    "mission['Quarterly'] = 3\n",
    "pd.set_option('display.max_rows', df.shape[0]+1)\n",
    "mission"
   ]
  },
  {
   "cell_type": "markdown",
   "id": "e7196ba5",
   "metadata": {
    "extensions": {
     "jupyter_dashboards": {
      "version": 1,
      "views": {
       "grid_default": {},
       "report_default": {}
      }
     }
    }
   },
   "source": [
    "# Monthly Prediction"
   ]
  },
  {
   "cell_type": "code",
   "execution_count": 33,
   "id": "3c773cfe",
   "metadata": {
    "extensions": {
     "jupyter_dashboards": {
      "version": 1,
      "views": {
       "grid_default": {},
       "report_default": {}
      }
     }
    }
   },
   "outputs": [
    {
     "data": {
      "text/html": [
       "<div>\n",
       "<style scoped>\n",
       "    .dataframe tbody tr th:only-of-type {\n",
       "        vertical-align: middle;\n",
       "    }\n",
       "\n",
       "    .dataframe tbody tr th {\n",
       "        vertical-align: top;\n",
       "    }\n",
       "\n",
       "    .dataframe thead th {\n",
       "        text-align: right;\n",
       "    }\n",
       "</style>\n",
       "<table border=\"1\" class=\"dataframe\">\n",
       "  <thead>\n",
       "    <tr style=\"text-align: right;\">\n",
       "      <th></th>\n",
       "      <th>Name</th>\n",
       "      <th>sales</th>\n",
       "      <th>monthly</th>\n",
       "    </tr>\n",
       "  </thead>\n",
       "  <tbody>\n",
       "    <tr>\n",
       "      <th>9</th>\n",
       "      <td>Kamias</td>\n",
       "      <td>83.594444</td>\n",
       "      <td>1</td>\n",
       "    </tr>\n",
       "    <tr>\n",
       "      <th>10</th>\n",
       "      <td>Kalamasi</td>\n",
       "      <td>109.694444</td>\n",
       "      <td>1</td>\n",
       "    </tr>\n",
       "    <tr>\n",
       "      <th>11</th>\n",
       "      <td>Papaya</td>\n",
       "      <td>60.680556</td>\n",
       "      <td>1</td>\n",
       "    </tr>\n",
       "    <tr>\n",
       "      <th>12</th>\n",
       "      <td>Tundan</td>\n",
       "      <td>76.941667</td>\n",
       "      <td>1</td>\n",
       "    </tr>\n",
       "    <tr>\n",
       "      <th>13</th>\n",
       "      <td>Lakatan</td>\n",
       "      <td>201.383333</td>\n",
       "      <td>1</td>\n",
       "    </tr>\n",
       "    <tr>\n",
       "      <th>14</th>\n",
       "      <td>Rambutan</td>\n",
       "      <td>170.102778</td>\n",
       "      <td>1</td>\n",
       "    </tr>\n",
       "    <tr>\n",
       "      <th>15</th>\n",
       "      <td>Suha</td>\n",
       "      <td>77.727778</td>\n",
       "      <td>1</td>\n",
       "    </tr>\n",
       "    <tr>\n",
       "      <th>16</th>\n",
       "      <td>Atis</td>\n",
       "      <td>103.555556</td>\n",
       "      <td>1</td>\n",
       "    </tr>\n",
       "    <tr>\n",
       "      <th>17</th>\n",
       "      <td>Guyabano</td>\n",
       "      <td>83.594444</td>\n",
       "      <td>1</td>\n",
       "    </tr>\n",
       "    <tr>\n",
       "      <th>18</th>\n",
       "      <td>Kamias</td>\n",
       "      <td>83.594444</td>\n",
       "      <td>1</td>\n",
       "    </tr>\n",
       "    <tr>\n",
       "      <th>19</th>\n",
       "      <td>Kalamasi</td>\n",
       "      <td>109.694444</td>\n",
       "      <td>1</td>\n",
       "    </tr>\n",
       "    <tr>\n",
       "      <th>20</th>\n",
       "      <td>Papaya</td>\n",
       "      <td>60.680556</td>\n",
       "      <td>1</td>\n",
       "    </tr>\n",
       "    <tr>\n",
       "      <th>21</th>\n",
       "      <td>Tundan</td>\n",
       "      <td>76.941667</td>\n",
       "      <td>1</td>\n",
       "    </tr>\n",
       "    <tr>\n",
       "      <th>22</th>\n",
       "      <td>Lakatan</td>\n",
       "      <td>201.383333</td>\n",
       "      <td>1</td>\n",
       "    </tr>\n",
       "    <tr>\n",
       "      <th>23</th>\n",
       "      <td>Rambutan</td>\n",
       "      <td>170.102778</td>\n",
       "      <td>1</td>\n",
       "    </tr>\n",
       "    <tr>\n",
       "      <th>24</th>\n",
       "      <td>Suha</td>\n",
       "      <td>77.727778</td>\n",
       "      <td>1</td>\n",
       "    </tr>\n",
       "    <tr>\n",
       "      <th>25</th>\n",
       "      <td>Atis</td>\n",
       "      <td>103.555556</td>\n",
       "      <td>1</td>\n",
       "    </tr>\n",
       "    <tr>\n",
       "      <th>26</th>\n",
       "      <td>Guyabano</td>\n",
       "      <td>83.594444</td>\n",
       "      <td>1</td>\n",
       "    </tr>\n",
       "  </tbody>\n",
       "</table>\n",
       "</div>"
      ],
      "text/plain": [
       "        Name       sales  monthly\n",
       "9     Kamias   83.594444        1\n",
       "10  Kalamasi  109.694444        1\n",
       "11    Papaya   60.680556        1\n",
       "12    Tundan   76.941667        1\n",
       "13   Lakatan  201.383333        1\n",
       "14  Rambutan  170.102778        1\n",
       "15      Suha   77.727778        1\n",
       "16      Atis  103.555556        1\n",
       "17  Guyabano   83.594444        1\n",
       "18    Kamias   83.594444        1\n",
       "19  Kalamasi  109.694444        1\n",
       "20    Papaya   60.680556        1\n",
       "21    Tundan   76.941667        1\n",
       "22   Lakatan  201.383333        1\n",
       "23  Rambutan  170.102778        1\n",
       "24      Suha   77.727778        1\n",
       "25      Atis  103.555556        1\n",
       "26  Guyabano   83.594444        1"
      ]
     },
     "execution_count": 33,
     "metadata": {},
     "output_type": "execute_result"
    }
   ],
   "source": [
    "mission = pd.DataFrame()\n",
    "mission['Name'] = test[\"Name\"]\n",
    "mission['sales'] = pred / 36\n",
    "mission['monthly'] = 1\n",
    "pd.set_option('display.max_rows', df.shape[0]+1)\n",
    "mission"
   ]
  }
 ],
 "metadata": {
  "extensions": {
   "jupyter_dashboards": {
    "activeView": "grid_default",
    "version": 1,
    "views": {
     "grid_default": {
      "cellMargin": 10,
      "defaultCellHeight": 20,
      "maxColumns": 12,
      "name": "grid",
      "type": "grid"
     },
     "report_default": {
      "name": "report",
      "type": "report"
     }
    }
   }
  },
  "hide_input": false,
  "kernelspec": {
   "display_name": "f",
   "language": "python",
   "name": "f"
  },
  "language_info": {
   "codemirror_mode": {
    "name": "ipython",
    "version": 3
   },
   "file_extension": ".py",
   "mimetype": "text/x-python",
   "name": "python",
   "nbconvert_exporter": "python",
   "pygments_lexer": "ipython3",
   "version": "3.11.4"
  }
 },
 "nbformat": 4,
 "nbformat_minor": 5
}
